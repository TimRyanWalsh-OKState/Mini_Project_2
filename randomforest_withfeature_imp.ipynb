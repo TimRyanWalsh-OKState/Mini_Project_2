{
 "cells": [
  {
   "cell_type": "code",
   "execution_count": 1,
   "id": "98b75c2b",
   "metadata": {},
   "outputs": [],
   "source": [
    "import findspark\n",
    "findspark.init()"
   ]
  },
  {
   "cell_type": "code",
   "execution_count": 2,
   "id": "f7c4a5e3",
   "metadata": {},
   "outputs": [],
   "source": [
    "from pyspark.sql import SparkSession\n",
    "from pyspark.conf import SparkConf\n",
    "from pyspark.sql.types import * \n",
    "import pyspark.sql.functions as F\n",
    "from pyspark.sql.functions import col, asc,desc\n",
    "import matplotlib.pyplot as plt\n",
    "import numpy as np\n",
    "import seaborn as sns\n",
    "from pyspark.sql import SQLContext\n",
    "from pyspark.mllib.stat import Statistics\n",
    "import pandas as pd\n",
    "from pyspark.sql.functions import udf\n",
    "from pyspark.ml.feature import OneHotEncoder, StringIndexer, VectorAssembler,StandardScaler\n",
    "from pyspark.ml import Pipeline\n",
    "from sklearn.metrics import confusion_matrix\n",
    "\n",
    "spark=SparkSession.builder \\\n",
    ".master (\"local[*]\")\\\n",
    ".appName(\"part3\")\\\n",
    ".getOrCreate()"
   ]
  },
  {
   "cell_type": "code",
   "execution_count": 3,
   "id": "a59cf286",
   "metadata": {},
   "outputs": [
    {
     "name": "stderr",
     "output_type": "stream",
     "text": [
      "C:\\apps\\spark-3.3.0-bin-hadoop3\\python\\pyspark\\sql\\context.py:112: FutureWarning: Deprecated in 3.0.0. Use SparkSession.builder.getOrCreate() instead.\n",
      "  warnings.warn(\n"
     ]
    }
   ],
   "source": [
    "sc=spark.sparkContext\n",
    "sqlContext=SQLContext(sc)"
   ]
  },
  {
   "cell_type": "code",
   "execution_count": 18,
   "id": "bf7bc9a8",
   "metadata": {},
   "outputs": [
    {
     "name": "stdout",
     "output_type": "stream",
     "text": [
      "There are 41188 rows 22 columns in the data.\n"
     ]
    }
   ],
   "source": [
    "#read file\n",
    "df=spark.read \\\n",
    " .option(\"header\",\"True\")\\\n",
    " .option(\"inferSchema\",\"True\")\\\n",
    " .option(\"sep\",\";\")\\\n",
    " .csv(\"C:\\\\Users\\\\sucha\\\\Desktop\\\\pyspark\\\\mini project\\\\XYZ_Bank_Deposit_Data_Classification.csv\")\n",
    "print(\"There are\",df.count(),\"rows\",len(df2.columns),\n",
    "      \"columns\" ,\"in the data.\") "
   ]
  },
  {
   "cell_type": "code",
   "execution_count": 19,
   "id": "fa22f191",
   "metadata": {},
   "outputs": [],
   "source": [
    "def udf_multiple(age):\n",
    "    if (age <= 25):\n",
    "        return 'Under 25'\n",
    "    elif (age >= 25 and age <= 35):\n",
    "        return 'Between 25 and 35'\n",
    "    elif (age > 35 and age < 50):\n",
    "        return 'Between 36 and 49'\n",
    "    elif (age >= 50):\n",
    "        return 'Over 50'\n",
    "    else: return 'N/A'\n",
    "\n",
    "education_udf = udf(udf_multiple)\n",
    "df=df.withColumn(\"Age_udf\", education_udf('Age'))"
   ]
  },
  {
   "cell_type": "code",
   "execution_count": 20,
   "id": "9ddc865f",
   "metadata": {},
   "outputs": [],
   "source": [
    "df = df.withColumnRenamed(\"emp.var.rate\", \"employment_variation_rate\")\\\n",
    "       .withColumnRenamed(\"Cons.price.idx\", \"consumer_price_index\")\\\n",
    "       .withColumnRenamed(\"Cons.conf.idx\", \"consumer_confidence_index\")\\\n",
    "       .withColumnRenamed(\"euribor3m\", \"euribor_3_monthrate\")\\\n",
    "       .withColumnRenamed(\"nr.employed\", \"number_of_employees\")\\\n",
    "       .withColumnRenamed(\"y\", \"Outcome\")\n",
    "\n"
   ]
  },
  {
   "cell_type": "code",
   "execution_count": 21,
   "id": "60726b0d",
   "metadata": {},
   "outputs": [],
   "source": [
    "\n",
    "encoding_var = [i[0] for i in df.dtypes if (i[1]=='string') & (i[0]!='Outcome')]\n",
    "num_var = [i[0] for i in df.dtypes if ((i[1]=='int') | (i[1]=='double')) & (i[0]!='Outcome')]\n",
    "\n",
    "string_indexes = [StringIndexer(inputCol = c, outputCol = 'IDX_' + c, handleInvalid = 'keep') for c in encoding_var]\n",
    "onehot_indexes = [OneHotEncoder(inputCols = ['IDX_' + c], outputCols = ['OHE_' + c]) for c in encoding_var]\n",
    "label_indexes = StringIndexer(inputCol = 'Outcome', outputCol = 'label', handleInvalid = 'keep')\n",
    "assembler = VectorAssembler(inputCols = num_var + ['OHE_' + c for c in encoding_var], outputCol = \"features\")\n"
   ]
  },
  {
   "cell_type": "code",
   "execution_count": 22,
   "id": "feae984a",
   "metadata": {},
   "outputs": [],
   "source": [
    "from pyspark.sql.functions import *\n",
    "from pyspark.ml.classification import  RandomForestClassifier\n",
    "from pyspark.ml.feature import StringIndexer, OneHotEncoder, VectorAssembler, VectorSlicer\n",
    "\n",
    "rf = RandomForestClassifier(labelCol=\"label\", featuresCol=\"features\", seed = 8464,\n",
    "                            numTrees=10, cacheNodeIds = True, subsamplingRate = 0.7)\n",
    "\n",
    "pipe = Pipeline(stages = string_indexes + onehot_indexes + [assembler, label_indexes, rf])\n"
   ]
  },
  {
   "cell_type": "code",
   "execution_count": 23,
   "id": "9a468475",
   "metadata": {},
   "outputs": [],
   "source": [
    "mod = pipe.fit(df)\n"
   ]
  },
  {
   "cell_type": "code",
   "execution_count": 24,
   "id": "3672e403",
   "metadata": {},
   "outputs": [],
   "source": [
    "df2 = mod.transform(df)\n"
   ]
  },
  {
   "cell_type": "code",
   "execution_count": 25,
   "id": "2a2791e8",
   "metadata": {},
   "outputs": [
    {
     "data": {
      "text/plain": [
       "SparseVector(67, {0: 0.0062, 1: 0.292, 2: 0.0019, 3: 0.0285, 4: 0.0255, 5: 0.1013, 6: 0.0104, 7: 0.045, 8: 0.0629, 9: 0.2053, 10: 0.0003, 11: 0.0009, 12: 0.0006, 14: 0.0001, 15: 0.0002, 19: 0.0002, 20: 0.0003, 21: 0.0007, 23: 0.0001, 24: 0.0001, 26: 0.0002, 28: 0.0003, 30: 0.0002, 31: 0.0002, 34: 0.0005, 35: 0.0003, 37: 0.0003, 38: 0.0001, 39: 0.0003, 42: 0.0001, 43: 0.0297, 44: 0.0026, 45: 0.0015, 46: 0.0014, 51: 0.0069, 52: 0.0058, 55: 0.0003, 56: 0.0009, 59: 0.0002, 60: 0.0091, 61: 0.0009, 62: 0.1547, 63: 0.0002, 64: 0.0002, 65: 0.0002, 66: 0.0003})"
      ]
     },
     "execution_count": 25,
     "metadata": {},
     "output_type": "execute_result"
    }
   ],
   "source": [
    "mod.stages[-1].featureImportances\n"
   ]
  },
  {
   "cell_type": "code",
   "execution_count": 26,
   "id": "102f8cc7",
   "metadata": {},
   "outputs": [],
   "source": [
    "def ExtractFeatureImp(featureImp, dataset, featuresCol):\n",
    "    list_extract = []\n",
    "    for i in dataset.schema[featuresCol].metadata[\"ml_attr\"][\"attrs\"]:\n",
    "        list_extract = list_extract + dataset.schema[featuresCol].metadata[\"ml_attr\"][\"attrs\"][i]\n",
    "    varlist = pd.DataFrame(list_extract)\n",
    "    varlist['score'] = varlist['idx'].apply(lambda x: featureImp[x])\n",
    "    return(varlist.sort_values('score', ascending = False))\n"
   ]
  },
  {
   "cell_type": "code",
   "execution_count": 27,
   "id": "10ab20e9",
   "metadata": {},
   "outputs": [
    {
     "data": {
      "text/html": [
       "<div>\n",
       "<style scoped>\n",
       "    .dataframe tbody tr th:only-of-type {\n",
       "        vertical-align: middle;\n",
       "    }\n",
       "\n",
       "    .dataframe tbody tr th {\n",
       "        vertical-align: top;\n",
       "    }\n",
       "\n",
       "    .dataframe thead th {\n",
       "        text-align: right;\n",
       "    }\n",
       "</style>\n",
       "<table border=\"1\" class=\"dataframe\">\n",
       "  <thead>\n",
       "    <tr style=\"text-align: right;\">\n",
       "      <th></th>\n",
       "      <th>idx</th>\n",
       "      <th>name</th>\n",
       "      <th>score</th>\n",
       "    </tr>\n",
       "  </thead>\n",
       "  <tbody>\n",
       "    <tr>\n",
       "      <th>1</th>\n",
       "      <td>1</td>\n",
       "      <td>duration</td>\n",
       "      <td>0.292015</td>\n",
       "    </tr>\n",
       "    <tr>\n",
       "      <th>9</th>\n",
       "      <td>9</td>\n",
       "      <td>number_of_employees</td>\n",
       "      <td>0.205271</td>\n",
       "    </tr>\n",
       "    <tr>\n",
       "      <th>62</th>\n",
       "      <td>62</td>\n",
       "      <td>OHE_poutcome_success</td>\n",
       "      <td>0.154734</td>\n",
       "    </tr>\n",
       "    <tr>\n",
       "      <th>5</th>\n",
       "      <td>5</td>\n",
       "      <td>employment_variation_rate</td>\n",
       "      <td>0.101274</td>\n",
       "    </tr>\n",
       "    <tr>\n",
       "      <th>8</th>\n",
       "      <td>8</td>\n",
       "      <td>euribor_3_monthrate</td>\n",
       "      <td>0.062930</td>\n",
       "    </tr>\n",
       "    <tr>\n",
       "      <th>7</th>\n",
       "      <td>7</td>\n",
       "      <td>consumer_confidence_index</td>\n",
       "      <td>0.045009</td>\n",
       "    </tr>\n",
       "    <tr>\n",
       "      <th>43</th>\n",
       "      <td>43</td>\n",
       "      <td>OHE_contact_cellular</td>\n",
       "      <td>0.029651</td>\n",
       "    </tr>\n",
       "    <tr>\n",
       "      <th>3</th>\n",
       "      <td>3</td>\n",
       "      <td>pdays</td>\n",
       "      <td>0.028486</td>\n",
       "    </tr>\n",
       "    <tr>\n",
       "      <th>4</th>\n",
       "      <td>4</td>\n",
       "      <td>previous</td>\n",
       "      <td>0.025479</td>\n",
       "    </tr>\n",
       "    <tr>\n",
       "      <th>6</th>\n",
       "      <td>6</td>\n",
       "      <td>consumer_price_index</td>\n",
       "      <td>0.010437</td>\n",
       "    </tr>\n",
       "  </tbody>\n",
       "</table>\n",
       "</div>"
      ],
      "text/plain": [
       "    idx                       name     score\n",
       "1     1                   duration  0.292015\n",
       "9     9        number_of_employees  0.205271\n",
       "62   62       OHE_poutcome_success  0.154734\n",
       "5     5  employment_variation_rate  0.101274\n",
       "8     8        euribor_3_monthrate  0.062930\n",
       "7     7  consumer_confidence_index  0.045009\n",
       "43   43       OHE_contact_cellular  0.029651\n",
       "3     3                      pdays  0.028486\n",
       "4     4                   previous  0.025479\n",
       "6     6       consumer_price_index  0.010437"
      ]
     },
     "execution_count": 27,
     "metadata": {},
     "output_type": "execute_result"
    }
   ],
   "source": [
    "ExtractFeatureImp(mod.stages[-1].featureImportances, df2, \"features\").head(10)\n"
   ]
  },
  {
   "cell_type": "code",
   "execution_count": null,
   "id": "ea9500b2",
   "metadata": {},
   "outputs": [],
   "source": []
  },
  {
   "cell_type": "code",
   "execution_count": null,
   "id": "4e904478",
   "metadata": {},
   "outputs": [],
   "source": []
  }
 ],
 "metadata": {
  "kernelspec": {
   "display_name": "Python 3 (ipykernel)",
   "language": "python",
   "name": "python3"
  },
  "language_info": {
   "codemirror_mode": {
    "name": "ipython",
    "version": 3
   },
   "file_extension": ".py",
   "mimetype": "text/x-python",
   "name": "python",
   "nbconvert_exporter": "python",
   "pygments_lexer": "ipython3",
   "version": "3.9.7"
  }
 },
 "nbformat": 4,
 "nbformat_minor": 5
}
