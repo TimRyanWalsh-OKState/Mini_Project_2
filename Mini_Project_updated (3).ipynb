{
 "cells": [
  {
   "cell_type": "markdown",
   "id": "642cdbb2",
   "metadata": {},
   "source": [
    "# Setup"
   ]
  },
  {
   "cell_type": "code",
   "execution_count": 1,
   "id": "363d07d9",
   "metadata": {},
   "outputs": [
    {
     "name": "stdout",
     "output_type": "stream",
     "text": [
      "username: Akansha.Mehta\n",
      "Today's date: 2022-11-16\n"
     ]
    }
   ],
   "source": [
    "#Printing TimeStamp and User Name\n",
    "\n",
    "import os\n",
    " \n",
    "print(\"username:\" , os.getlogin())\n",
    "from datetime import date\n",
    "\n",
    "today = date.today()\n",
    "print(\"Today's date:\", today)"
   ]
  },
  {
   "cell_type": "code",
   "execution_count": 2,
   "id": "8c347bf5",
   "metadata": {},
   "outputs": [],
   "source": [
    "import findspark\n",
    "findspark.init()"
   ]
  },
  {
   "cell_type": "code",
   "execution_count": 3,
   "id": "3d7f055a",
   "metadata": {},
   "outputs": [],
   "source": [
    "#Loading Packages\n",
    "\n",
    "from pyspark.sql.functions import isnan, when, count, col\n",
    "from pyspark.sql import SparkSession\n",
    "from pyspark.conf import SparkConf\n",
    "from pyspark.sql.types import * \n",
    "import pyspark.sql.functions as F\n",
    "from pyspark.sql.functions import col, asc,desc\n",
    "import matplotlib.pyplot as plt\n",
    "import numpy as np\n",
    "import seaborn as sns\n",
    "from pyspark.sql import SQLContext\n",
    "from pyspark.mllib.stat import Statistics\n",
    "import pandas as pd\n",
    "from pyspark.sql.functions import udf\n",
    "from pyspark.ml.feature import OneHotEncoder, StringIndexer, VectorAssembler,StandardScaler\n",
    "from pyspark.ml import Pipeline\n",
    "from sklearn.metrics import confusion_matrix\n",
    "\n",
    "spark=SparkSession.builder \\\n",
    ".master (\"local[*]\")\\\n",
    ".appName(\"part3\")\\\n",
    ".getOrCreate()"
   ]
  },
  {
   "cell_type": "code",
   "execution_count": 4,
   "id": "26a11130",
   "metadata": {},
   "outputs": [
    {
     "name": "stderr",
     "output_type": "stream",
     "text": [
      "C:\\Apps\\spark-3.3.0-bin-hadoop3\\python\\pyspark\\sql\\context.py:112: FutureWarning: Deprecated in 3.0.0. Use SparkSession.builder.getOrCreate() instead.\n",
      "  warnings.warn(\n"
     ]
    }
   ],
   "source": [
    "sc=spark.sparkContext\n",
    "sqlContext=SQLContext(sc)"
   ]
  },
  {
   "cell_type": "markdown",
   "id": "2aac872e",
   "metadata": {},
   "source": [
    "# Loading Data"
   ]
  },
  {
   "cell_type": "code",
   "execution_count": 5,
   "id": "ec31aead",
   "metadata": {},
   "outputs": [
    {
     "name": "stdout",
     "output_type": "stream",
     "text": [
      "There are 41188 rows 21 columns in the data.\n"
     ]
    }
   ],
   "source": [
    "#Reading file\n",
    "\n",
    "df=spark.read \\\n",
    " .option(\"header\",\"True\")\\\n",
    " .option(\"inferSchema\",\"True\")\\\n",
    " .option(\"sep\",\";\")\\\n",
    " .csv(\"XYZ_Bank_Deposit_Data_Classification.csv\")\n",
    "print(\"There are\",df.count(),\"rows\",len(df.columns),\n",
    "      \"columns\" ,\"in the data.\") "
   ]
  },
  {
   "cell_type": "code",
   "execution_count": 6,
   "id": "dce3a778",
   "metadata": {},
   "outputs": [
    {
     "data": {
      "text/html": [
       "<div>\n",
       "<style scoped>\n",
       "    .dataframe tbody tr th:only-of-type {\n",
       "        vertical-align: middle;\n",
       "    }\n",
       "\n",
       "    .dataframe tbody tr th {\n",
       "        vertical-align: top;\n",
       "    }\n",
       "\n",
       "    .dataframe thead th {\n",
       "        text-align: right;\n",
       "    }\n",
       "</style>\n",
       "<table border=\"1\" class=\"dataframe\">\n",
       "  <thead>\n",
       "    <tr style=\"text-align: right;\">\n",
       "      <th></th>\n",
       "      <th>age</th>\n",
       "      <th>job</th>\n",
       "      <th>marital</th>\n",
       "      <th>education</th>\n",
       "      <th>default</th>\n",
       "      <th>housing</th>\n",
       "      <th>loan</th>\n",
       "      <th>contact</th>\n",
       "      <th>month</th>\n",
       "      <th>day_of_week</th>\n",
       "      <th>...</th>\n",
       "      <th>campaign</th>\n",
       "      <th>pdays</th>\n",
       "      <th>previous</th>\n",
       "      <th>poutcome</th>\n",
       "      <th>emp.var.rate</th>\n",
       "      <th>cons.price.idx</th>\n",
       "      <th>cons.conf.idx</th>\n",
       "      <th>euribor3m</th>\n",
       "      <th>nr.employed</th>\n",
       "      <th>y</th>\n",
       "    </tr>\n",
       "  </thead>\n",
       "  <tbody>\n",
       "    <tr>\n",
       "      <th>0</th>\n",
       "      <td>56</td>\n",
       "      <td>housemaid</td>\n",
       "      <td>married</td>\n",
       "      <td>basic.4y</td>\n",
       "      <td>no</td>\n",
       "      <td>no</td>\n",
       "      <td>no</td>\n",
       "      <td>telephone</td>\n",
       "      <td>may</td>\n",
       "      <td>mon</td>\n",
       "      <td>...</td>\n",
       "      <td>1</td>\n",
       "      <td>999</td>\n",
       "      <td>0</td>\n",
       "      <td>nonexistent</td>\n",
       "      <td>1.1</td>\n",
       "      <td>93.994</td>\n",
       "      <td>-36.4</td>\n",
       "      <td>4.857</td>\n",
       "      <td>5191.0</td>\n",
       "      <td>no</td>\n",
       "    </tr>\n",
       "    <tr>\n",
       "      <th>1</th>\n",
       "      <td>57</td>\n",
       "      <td>services</td>\n",
       "      <td>married</td>\n",
       "      <td>high.school</td>\n",
       "      <td>unknown</td>\n",
       "      <td>no</td>\n",
       "      <td>no</td>\n",
       "      <td>telephone</td>\n",
       "      <td>may</td>\n",
       "      <td>mon</td>\n",
       "      <td>...</td>\n",
       "      <td>1</td>\n",
       "      <td>999</td>\n",
       "      <td>0</td>\n",
       "      <td>nonexistent</td>\n",
       "      <td>1.1</td>\n",
       "      <td>93.994</td>\n",
       "      <td>-36.4</td>\n",
       "      <td>4.857</td>\n",
       "      <td>5191.0</td>\n",
       "      <td>no</td>\n",
       "    </tr>\n",
       "    <tr>\n",
       "      <th>2</th>\n",
       "      <td>37</td>\n",
       "      <td>services</td>\n",
       "      <td>married</td>\n",
       "      <td>high.school</td>\n",
       "      <td>no</td>\n",
       "      <td>yes</td>\n",
       "      <td>no</td>\n",
       "      <td>telephone</td>\n",
       "      <td>may</td>\n",
       "      <td>mon</td>\n",
       "      <td>...</td>\n",
       "      <td>1</td>\n",
       "      <td>999</td>\n",
       "      <td>0</td>\n",
       "      <td>nonexistent</td>\n",
       "      <td>1.1</td>\n",
       "      <td>93.994</td>\n",
       "      <td>-36.4</td>\n",
       "      <td>4.857</td>\n",
       "      <td>5191.0</td>\n",
       "      <td>no</td>\n",
       "    </tr>\n",
       "    <tr>\n",
       "      <th>3</th>\n",
       "      <td>40</td>\n",
       "      <td>admin.</td>\n",
       "      <td>married</td>\n",
       "      <td>basic.6y</td>\n",
       "      <td>no</td>\n",
       "      <td>no</td>\n",
       "      <td>no</td>\n",
       "      <td>telephone</td>\n",
       "      <td>may</td>\n",
       "      <td>mon</td>\n",
       "      <td>...</td>\n",
       "      <td>1</td>\n",
       "      <td>999</td>\n",
       "      <td>0</td>\n",
       "      <td>nonexistent</td>\n",
       "      <td>1.1</td>\n",
       "      <td>93.994</td>\n",
       "      <td>-36.4</td>\n",
       "      <td>4.857</td>\n",
       "      <td>5191.0</td>\n",
       "      <td>no</td>\n",
       "    </tr>\n",
       "    <tr>\n",
       "      <th>4</th>\n",
       "      <td>56</td>\n",
       "      <td>services</td>\n",
       "      <td>married</td>\n",
       "      <td>high.school</td>\n",
       "      <td>no</td>\n",
       "      <td>no</td>\n",
       "      <td>yes</td>\n",
       "      <td>telephone</td>\n",
       "      <td>may</td>\n",
       "      <td>mon</td>\n",
       "      <td>...</td>\n",
       "      <td>1</td>\n",
       "      <td>999</td>\n",
       "      <td>0</td>\n",
       "      <td>nonexistent</td>\n",
       "      <td>1.1</td>\n",
       "      <td>93.994</td>\n",
       "      <td>-36.4</td>\n",
       "      <td>4.857</td>\n",
       "      <td>5191.0</td>\n",
       "      <td>no</td>\n",
       "    </tr>\n",
       "    <tr>\n",
       "      <th>5</th>\n",
       "      <td>45</td>\n",
       "      <td>services</td>\n",
       "      <td>married</td>\n",
       "      <td>basic.9y</td>\n",
       "      <td>unknown</td>\n",
       "      <td>no</td>\n",
       "      <td>no</td>\n",
       "      <td>telephone</td>\n",
       "      <td>may</td>\n",
       "      <td>mon</td>\n",
       "      <td>...</td>\n",
       "      <td>1</td>\n",
       "      <td>999</td>\n",
       "      <td>0</td>\n",
       "      <td>nonexistent</td>\n",
       "      <td>1.1</td>\n",
       "      <td>93.994</td>\n",
       "      <td>-36.4</td>\n",
       "      <td>4.857</td>\n",
       "      <td>5191.0</td>\n",
       "      <td>no</td>\n",
       "    </tr>\n",
       "    <tr>\n",
       "      <th>6</th>\n",
       "      <td>59</td>\n",
       "      <td>admin.</td>\n",
       "      <td>married</td>\n",
       "      <td>professional.course</td>\n",
       "      <td>no</td>\n",
       "      <td>no</td>\n",
       "      <td>no</td>\n",
       "      <td>telephone</td>\n",
       "      <td>may</td>\n",
       "      <td>mon</td>\n",
       "      <td>...</td>\n",
       "      <td>1</td>\n",
       "      <td>999</td>\n",
       "      <td>0</td>\n",
       "      <td>nonexistent</td>\n",
       "      <td>1.1</td>\n",
       "      <td>93.994</td>\n",
       "      <td>-36.4</td>\n",
       "      <td>4.857</td>\n",
       "      <td>5191.0</td>\n",
       "      <td>no</td>\n",
       "    </tr>\n",
       "    <tr>\n",
       "      <th>7</th>\n",
       "      <td>41</td>\n",
       "      <td>blue-collar</td>\n",
       "      <td>married</td>\n",
       "      <td>unknown</td>\n",
       "      <td>unknown</td>\n",
       "      <td>no</td>\n",
       "      <td>no</td>\n",
       "      <td>telephone</td>\n",
       "      <td>may</td>\n",
       "      <td>mon</td>\n",
       "      <td>...</td>\n",
       "      <td>1</td>\n",
       "      <td>999</td>\n",
       "      <td>0</td>\n",
       "      <td>nonexistent</td>\n",
       "      <td>1.1</td>\n",
       "      <td>93.994</td>\n",
       "      <td>-36.4</td>\n",
       "      <td>4.857</td>\n",
       "      <td>5191.0</td>\n",
       "      <td>no</td>\n",
       "    </tr>\n",
       "    <tr>\n",
       "      <th>8</th>\n",
       "      <td>24</td>\n",
       "      <td>technician</td>\n",
       "      <td>single</td>\n",
       "      <td>professional.course</td>\n",
       "      <td>no</td>\n",
       "      <td>yes</td>\n",
       "      <td>no</td>\n",
       "      <td>telephone</td>\n",
       "      <td>may</td>\n",
       "      <td>mon</td>\n",
       "      <td>...</td>\n",
       "      <td>1</td>\n",
       "      <td>999</td>\n",
       "      <td>0</td>\n",
       "      <td>nonexistent</td>\n",
       "      <td>1.1</td>\n",
       "      <td>93.994</td>\n",
       "      <td>-36.4</td>\n",
       "      <td>4.857</td>\n",
       "      <td>5191.0</td>\n",
       "      <td>no</td>\n",
       "    </tr>\n",
       "    <tr>\n",
       "      <th>9</th>\n",
       "      <td>25</td>\n",
       "      <td>services</td>\n",
       "      <td>single</td>\n",
       "      <td>high.school</td>\n",
       "      <td>no</td>\n",
       "      <td>yes</td>\n",
       "      <td>no</td>\n",
       "      <td>telephone</td>\n",
       "      <td>may</td>\n",
       "      <td>mon</td>\n",
       "      <td>...</td>\n",
       "      <td>1</td>\n",
       "      <td>999</td>\n",
       "      <td>0</td>\n",
       "      <td>nonexistent</td>\n",
       "      <td>1.1</td>\n",
       "      <td>93.994</td>\n",
       "      <td>-36.4</td>\n",
       "      <td>4.857</td>\n",
       "      <td>5191.0</td>\n",
       "      <td>no</td>\n",
       "    </tr>\n",
       "    <tr>\n",
       "      <th>10</th>\n",
       "      <td>41</td>\n",
       "      <td>blue-collar</td>\n",
       "      <td>married</td>\n",
       "      <td>unknown</td>\n",
       "      <td>unknown</td>\n",
       "      <td>no</td>\n",
       "      <td>no</td>\n",
       "      <td>telephone</td>\n",
       "      <td>may</td>\n",
       "      <td>mon</td>\n",
       "      <td>...</td>\n",
       "      <td>1</td>\n",
       "      <td>999</td>\n",
       "      <td>0</td>\n",
       "      <td>nonexistent</td>\n",
       "      <td>1.1</td>\n",
       "      <td>93.994</td>\n",
       "      <td>-36.4</td>\n",
       "      <td>4.857</td>\n",
       "      <td>5191.0</td>\n",
       "      <td>no</td>\n",
       "    </tr>\n",
       "    <tr>\n",
       "      <th>11</th>\n",
       "      <td>25</td>\n",
       "      <td>services</td>\n",
       "      <td>single</td>\n",
       "      <td>high.school</td>\n",
       "      <td>no</td>\n",
       "      <td>yes</td>\n",
       "      <td>no</td>\n",
       "      <td>telephone</td>\n",
       "      <td>may</td>\n",
       "      <td>mon</td>\n",
       "      <td>...</td>\n",
       "      <td>1</td>\n",
       "      <td>999</td>\n",
       "      <td>0</td>\n",
       "      <td>nonexistent</td>\n",
       "      <td>1.1</td>\n",
       "      <td>93.994</td>\n",
       "      <td>-36.4</td>\n",
       "      <td>4.857</td>\n",
       "      <td>5191.0</td>\n",
       "      <td>no</td>\n",
       "    </tr>\n",
       "    <tr>\n",
       "      <th>12</th>\n",
       "      <td>29</td>\n",
       "      <td>blue-collar</td>\n",
       "      <td>single</td>\n",
       "      <td>high.school</td>\n",
       "      <td>no</td>\n",
       "      <td>no</td>\n",
       "      <td>yes</td>\n",
       "      <td>telephone</td>\n",
       "      <td>may</td>\n",
       "      <td>mon</td>\n",
       "      <td>...</td>\n",
       "      <td>1</td>\n",
       "      <td>999</td>\n",
       "      <td>0</td>\n",
       "      <td>nonexistent</td>\n",
       "      <td>1.1</td>\n",
       "      <td>93.994</td>\n",
       "      <td>-36.4</td>\n",
       "      <td>4.857</td>\n",
       "      <td>5191.0</td>\n",
       "      <td>no</td>\n",
       "    </tr>\n",
       "    <tr>\n",
       "      <th>13</th>\n",
       "      <td>57</td>\n",
       "      <td>housemaid</td>\n",
       "      <td>divorced</td>\n",
       "      <td>basic.4y</td>\n",
       "      <td>no</td>\n",
       "      <td>yes</td>\n",
       "      <td>no</td>\n",
       "      <td>telephone</td>\n",
       "      <td>may</td>\n",
       "      <td>mon</td>\n",
       "      <td>...</td>\n",
       "      <td>1</td>\n",
       "      <td>999</td>\n",
       "      <td>0</td>\n",
       "      <td>nonexistent</td>\n",
       "      <td>1.1</td>\n",
       "      <td>93.994</td>\n",
       "      <td>-36.4</td>\n",
       "      <td>4.857</td>\n",
       "      <td>5191.0</td>\n",
       "      <td>no</td>\n",
       "    </tr>\n",
       "    <tr>\n",
       "      <th>14</th>\n",
       "      <td>35</td>\n",
       "      <td>blue-collar</td>\n",
       "      <td>married</td>\n",
       "      <td>basic.6y</td>\n",
       "      <td>no</td>\n",
       "      <td>yes</td>\n",
       "      <td>no</td>\n",
       "      <td>telephone</td>\n",
       "      <td>may</td>\n",
       "      <td>mon</td>\n",
       "      <td>...</td>\n",
       "      <td>1</td>\n",
       "      <td>999</td>\n",
       "      <td>0</td>\n",
       "      <td>nonexistent</td>\n",
       "      <td>1.1</td>\n",
       "      <td>93.994</td>\n",
       "      <td>-36.4</td>\n",
       "      <td>4.857</td>\n",
       "      <td>5191.0</td>\n",
       "      <td>no</td>\n",
       "    </tr>\n",
       "    <tr>\n",
       "      <th>15</th>\n",
       "      <td>54</td>\n",
       "      <td>retired</td>\n",
       "      <td>married</td>\n",
       "      <td>basic.9y</td>\n",
       "      <td>unknown</td>\n",
       "      <td>yes</td>\n",
       "      <td>yes</td>\n",
       "      <td>telephone</td>\n",
       "      <td>may</td>\n",
       "      <td>mon</td>\n",
       "      <td>...</td>\n",
       "      <td>1</td>\n",
       "      <td>999</td>\n",
       "      <td>0</td>\n",
       "      <td>nonexistent</td>\n",
       "      <td>1.1</td>\n",
       "      <td>93.994</td>\n",
       "      <td>-36.4</td>\n",
       "      <td>4.857</td>\n",
       "      <td>5191.0</td>\n",
       "      <td>no</td>\n",
       "    </tr>\n",
       "    <tr>\n",
       "      <th>16</th>\n",
       "      <td>35</td>\n",
       "      <td>blue-collar</td>\n",
       "      <td>married</td>\n",
       "      <td>basic.6y</td>\n",
       "      <td>no</td>\n",
       "      <td>yes</td>\n",
       "      <td>no</td>\n",
       "      <td>telephone</td>\n",
       "      <td>may</td>\n",
       "      <td>mon</td>\n",
       "      <td>...</td>\n",
       "      <td>1</td>\n",
       "      <td>999</td>\n",
       "      <td>0</td>\n",
       "      <td>nonexistent</td>\n",
       "      <td>1.1</td>\n",
       "      <td>93.994</td>\n",
       "      <td>-36.4</td>\n",
       "      <td>4.857</td>\n",
       "      <td>5191.0</td>\n",
       "      <td>no</td>\n",
       "    </tr>\n",
       "    <tr>\n",
       "      <th>17</th>\n",
       "      <td>46</td>\n",
       "      <td>blue-collar</td>\n",
       "      <td>married</td>\n",
       "      <td>basic.6y</td>\n",
       "      <td>unknown</td>\n",
       "      <td>yes</td>\n",
       "      <td>yes</td>\n",
       "      <td>telephone</td>\n",
       "      <td>may</td>\n",
       "      <td>mon</td>\n",
       "      <td>...</td>\n",
       "      <td>1</td>\n",
       "      <td>999</td>\n",
       "      <td>0</td>\n",
       "      <td>nonexistent</td>\n",
       "      <td>1.1</td>\n",
       "      <td>93.994</td>\n",
       "      <td>-36.4</td>\n",
       "      <td>4.857</td>\n",
       "      <td>5191.0</td>\n",
       "      <td>no</td>\n",
       "    </tr>\n",
       "    <tr>\n",
       "      <th>18</th>\n",
       "      <td>50</td>\n",
       "      <td>blue-collar</td>\n",
       "      <td>married</td>\n",
       "      <td>basic.9y</td>\n",
       "      <td>no</td>\n",
       "      <td>yes</td>\n",
       "      <td>yes</td>\n",
       "      <td>telephone</td>\n",
       "      <td>may</td>\n",
       "      <td>mon</td>\n",
       "      <td>...</td>\n",
       "      <td>1</td>\n",
       "      <td>999</td>\n",
       "      <td>0</td>\n",
       "      <td>nonexistent</td>\n",
       "      <td>1.1</td>\n",
       "      <td>93.994</td>\n",
       "      <td>-36.4</td>\n",
       "      <td>4.857</td>\n",
       "      <td>5191.0</td>\n",
       "      <td>no</td>\n",
       "    </tr>\n",
       "    <tr>\n",
       "      <th>19</th>\n",
       "      <td>39</td>\n",
       "      <td>management</td>\n",
       "      <td>single</td>\n",
       "      <td>basic.9y</td>\n",
       "      <td>unknown</td>\n",
       "      <td>no</td>\n",
       "      <td>no</td>\n",
       "      <td>telephone</td>\n",
       "      <td>may</td>\n",
       "      <td>mon</td>\n",
       "      <td>...</td>\n",
       "      <td>1</td>\n",
       "      <td>999</td>\n",
       "      <td>0</td>\n",
       "      <td>nonexistent</td>\n",
       "      <td>1.1</td>\n",
       "      <td>93.994</td>\n",
       "      <td>-36.4</td>\n",
       "      <td>4.857</td>\n",
       "      <td>5191.0</td>\n",
       "      <td>no</td>\n",
       "    </tr>\n",
       "  </tbody>\n",
       "</table>\n",
       "<p>20 rows × 21 columns</p>\n",
       "</div>"
      ],
      "text/plain": [
       "    age          job   marital            education  default housing loan  \\\n",
       "0    56    housemaid   married             basic.4y       no      no   no   \n",
       "1    57     services   married          high.school  unknown      no   no   \n",
       "2    37     services   married          high.school       no     yes   no   \n",
       "3    40       admin.   married             basic.6y       no      no   no   \n",
       "4    56     services   married          high.school       no      no  yes   \n",
       "5    45     services   married             basic.9y  unknown      no   no   \n",
       "6    59       admin.   married  professional.course       no      no   no   \n",
       "7    41  blue-collar   married              unknown  unknown      no   no   \n",
       "8    24   technician    single  professional.course       no     yes   no   \n",
       "9    25     services    single          high.school       no     yes   no   \n",
       "10   41  blue-collar   married              unknown  unknown      no   no   \n",
       "11   25     services    single          high.school       no     yes   no   \n",
       "12   29  blue-collar    single          high.school       no      no  yes   \n",
       "13   57    housemaid  divorced             basic.4y       no     yes   no   \n",
       "14   35  blue-collar   married             basic.6y       no     yes   no   \n",
       "15   54      retired   married             basic.9y  unknown     yes  yes   \n",
       "16   35  blue-collar   married             basic.6y       no     yes   no   \n",
       "17   46  blue-collar   married             basic.6y  unknown     yes  yes   \n",
       "18   50  blue-collar   married             basic.9y       no     yes  yes   \n",
       "19   39   management    single             basic.9y  unknown      no   no   \n",
       "\n",
       "      contact month day_of_week  ...  campaign  pdays  previous     poutcome  \\\n",
       "0   telephone   may         mon  ...         1    999         0  nonexistent   \n",
       "1   telephone   may         mon  ...         1    999         0  nonexistent   \n",
       "2   telephone   may         mon  ...         1    999         0  nonexistent   \n",
       "3   telephone   may         mon  ...         1    999         0  nonexistent   \n",
       "4   telephone   may         mon  ...         1    999         0  nonexistent   \n",
       "5   telephone   may         mon  ...         1    999         0  nonexistent   \n",
       "6   telephone   may         mon  ...         1    999         0  nonexistent   \n",
       "7   telephone   may         mon  ...         1    999         0  nonexistent   \n",
       "8   telephone   may         mon  ...         1    999         0  nonexistent   \n",
       "9   telephone   may         mon  ...         1    999         0  nonexistent   \n",
       "10  telephone   may         mon  ...         1    999         0  nonexistent   \n",
       "11  telephone   may         mon  ...         1    999         0  nonexistent   \n",
       "12  telephone   may         mon  ...         1    999         0  nonexistent   \n",
       "13  telephone   may         mon  ...         1    999         0  nonexistent   \n",
       "14  telephone   may         mon  ...         1    999         0  nonexistent   \n",
       "15  telephone   may         mon  ...         1    999         0  nonexistent   \n",
       "16  telephone   may         mon  ...         1    999         0  nonexistent   \n",
       "17  telephone   may         mon  ...         1    999         0  nonexistent   \n",
       "18  telephone   may         mon  ...         1    999         0  nonexistent   \n",
       "19  telephone   may         mon  ...         1    999         0  nonexistent   \n",
       "\n",
       "   emp.var.rate  cons.price.idx  cons.conf.idx  euribor3m  nr.employed   y  \n",
       "0           1.1          93.994          -36.4      4.857       5191.0  no  \n",
       "1           1.1          93.994          -36.4      4.857       5191.0  no  \n",
       "2           1.1          93.994          -36.4      4.857       5191.0  no  \n",
       "3           1.1          93.994          -36.4      4.857       5191.0  no  \n",
       "4           1.1          93.994          -36.4      4.857       5191.0  no  \n",
       "5           1.1          93.994          -36.4      4.857       5191.0  no  \n",
       "6           1.1          93.994          -36.4      4.857       5191.0  no  \n",
       "7           1.1          93.994          -36.4      4.857       5191.0  no  \n",
       "8           1.1          93.994          -36.4      4.857       5191.0  no  \n",
       "9           1.1          93.994          -36.4      4.857       5191.0  no  \n",
       "10          1.1          93.994          -36.4      4.857       5191.0  no  \n",
       "11          1.1          93.994          -36.4      4.857       5191.0  no  \n",
       "12          1.1          93.994          -36.4      4.857       5191.0  no  \n",
       "13          1.1          93.994          -36.4      4.857       5191.0  no  \n",
       "14          1.1          93.994          -36.4      4.857       5191.0  no  \n",
       "15          1.1          93.994          -36.4      4.857       5191.0  no  \n",
       "16          1.1          93.994          -36.4      4.857       5191.0  no  \n",
       "17          1.1          93.994          -36.4      4.857       5191.0  no  \n",
       "18          1.1          93.994          -36.4      4.857       5191.0  no  \n",
       "19          1.1          93.994          -36.4      4.857       5191.0  no  \n",
       "\n",
       "[20 rows x 21 columns]"
      ]
     },
     "execution_count": 6,
     "metadata": {},
     "output_type": "execute_result"
    }
   ],
   "source": [
    "#Checking data - output\n",
    "\n",
    "df.toPandas().head(20)"
   ]
  },
  {
   "cell_type": "markdown",
   "id": "c01514cd",
   "metadata": {},
   "source": [
    "# Exploratory Data Analysis"
   ]
  },
  {
   "cell_type": "code",
   "execution_count": 7,
   "id": "9a86970a",
   "metadata": {},
   "outputs": [],
   "source": [
    "#Renaming columns for better understanding\n",
    "\n",
    "df = df.withColumnRenamed(\"emp.var.rate\", \"employment_variation_rate\")\\\n",
    "       .withColumnRenamed(\"Cons.price.idx\", \"consumer_price_index\")\\\n",
    "       .withColumnRenamed(\"Cons.conf.idx\", \"consumer_confidence_index\")\\\n",
    "       .withColumnRenamed(\"euribor3m\", \"euribor_3_monthrate\")\\\n",
    "       .withColumnRenamed(\"nr.employed\", \"number_of_employees\")\\\n",
    "       .withColumnRenamed(\"y\", \"outcome\")\\\n",
    "       .withColumnRenamed(\"default\", \"credit_default\")"
   ]
  },
  {
   "cell_type": "code",
   "execution_count": 8,
   "id": "7c057456",
   "metadata": {},
   "outputs": [
    {
     "name": "stdout",
     "output_type": "stream",
     "text": [
      "root\n",
      " |-- age: integer (nullable = true)\n",
      " |-- job: string (nullable = true)\n",
      " |-- marital: string (nullable = true)\n",
      " |-- education: string (nullable = true)\n",
      " |-- credit_default: string (nullable = true)\n",
      " |-- housing: string (nullable = true)\n",
      " |-- loan: string (nullable = true)\n",
      " |-- contact: string (nullable = true)\n",
      " |-- month: string (nullable = true)\n",
      " |-- day_of_week: string (nullable = true)\n",
      " |-- duration: integer (nullable = true)\n",
      " |-- campaign: integer (nullable = true)\n",
      " |-- pdays: integer (nullable = true)\n",
      " |-- previous: integer (nullable = true)\n",
      " |-- poutcome: string (nullable = true)\n",
      " |-- employment_variation_rate: double (nullable = true)\n",
      " |-- consumer_price_index: double (nullable = true)\n",
      " |-- consumer_confidence_index: double (nullable = true)\n",
      " |-- euribor_3_monthrate: double (nullable = true)\n",
      " |-- number_of_employees: double (nullable = true)\n",
      " |-- outcome: string (nullable = true)\n",
      "\n"
     ]
    }
   ],
   "source": [
    "#Checking Column DataTypes\n",
    "\n",
    "df.printSchema()"
   ]
  },
  {
   "cell_type": "code",
   "execution_count": 9,
   "id": "aee9de1e",
   "metadata": {},
   "outputs": [
    {
     "name": "stdout",
     "output_type": "stream",
     "text": [
      "Counter({'string': 11, 'int': 5, 'double': 5})\n"
     ]
    }
   ],
   "source": [
    "#Counting datatypes for all columns \n",
    "\n",
    "from collections import Counter\n",
    "print(Counter((x[1] for x in df.dtypes)))"
   ]
  },
  {
   "cell_type": "code",
   "execution_count": 10,
   "id": "d38c7203",
   "metadata": {},
   "outputs": [
    {
     "data": {
      "text/html": [
       "<div>\n",
       "<style scoped>\n",
       "    .dataframe tbody tr th:only-of-type {\n",
       "        vertical-align: middle;\n",
       "    }\n",
       "\n",
       "    .dataframe tbody tr th {\n",
       "        vertical-align: top;\n",
       "    }\n",
       "\n",
       "    .dataframe thead th {\n",
       "        text-align: right;\n",
       "    }\n",
       "</style>\n",
       "<table border=\"1\" class=\"dataframe\">\n",
       "  <thead>\n",
       "    <tr style=\"text-align: right;\">\n",
       "      <th></th>\n",
       "      <th>age</th>\n",
       "      <th>job</th>\n",
       "      <th>marital</th>\n",
       "      <th>education</th>\n",
       "      <th>credit_default</th>\n",
       "      <th>housing</th>\n",
       "      <th>loan</th>\n",
       "      <th>contact</th>\n",
       "      <th>month</th>\n",
       "      <th>day_of_week</th>\n",
       "      <th>...</th>\n",
       "      <th>campaign</th>\n",
       "      <th>pdays</th>\n",
       "      <th>previous</th>\n",
       "      <th>poutcome</th>\n",
       "      <th>employment_variation_rate</th>\n",
       "      <th>consumer_price_index</th>\n",
       "      <th>consumer_confidence_index</th>\n",
       "      <th>euribor_3_monthrate</th>\n",
       "      <th>number_of_employees</th>\n",
       "      <th>outcome</th>\n",
       "    </tr>\n",
       "  </thead>\n",
       "  <tbody>\n",
       "    <tr>\n",
       "      <th>0</th>\n",
       "      <td>0</td>\n",
       "      <td>0</td>\n",
       "      <td>0</td>\n",
       "      <td>0</td>\n",
       "      <td>0</td>\n",
       "      <td>0</td>\n",
       "      <td>0</td>\n",
       "      <td>0</td>\n",
       "      <td>0</td>\n",
       "      <td>0</td>\n",
       "      <td>...</td>\n",
       "      <td>0</td>\n",
       "      <td>0</td>\n",
       "      <td>0</td>\n",
       "      <td>0</td>\n",
       "      <td>0</td>\n",
       "      <td>0</td>\n",
       "      <td>0</td>\n",
       "      <td>0</td>\n",
       "      <td>0</td>\n",
       "      <td>0</td>\n",
       "    </tr>\n",
       "  </tbody>\n",
       "</table>\n",
       "<p>1 rows × 21 columns</p>\n",
       "</div>"
      ],
      "text/plain": [
       "   age  job  marital  education  credit_default  housing  loan  contact  \\\n",
       "0    0    0        0          0               0        0     0        0   \n",
       "\n",
       "   month  day_of_week  ...  campaign  pdays  previous  poutcome  \\\n",
       "0      0            0  ...         0      0         0         0   \n",
       "\n",
       "   employment_variation_rate  consumer_price_index  consumer_confidence_index  \\\n",
       "0                          0                     0                          0   \n",
       "\n",
       "   euribor_3_monthrate  number_of_employees  outcome  \n",
       "0                    0                    0        0  \n",
       "\n",
       "[1 rows x 21 columns]"
      ]
     },
     "execution_count": 10,
     "metadata": {},
     "output_type": "execute_result"
    }
   ],
   "source": [
    "#Counting nulls (Method 1)\n",
    "\n",
    "from pyspark.sql.functions import isnan, when, count, col\n",
    "df.select([count(when(isnan(c), c)).alias(c) for c in df.columns]).toPandas().head()"
   ]
  },
  {
   "cell_type": "code",
   "execution_count": 11,
   "id": "37b57f11",
   "metadata": {},
   "outputs": [
    {
     "data": {
      "text/plain": [
       "{'age': 0,\n",
       " 'job': 0,\n",
       " 'marital': 0,\n",
       " 'education': 0,\n",
       " 'credit_default': 0,\n",
       " 'housing': 0,\n",
       " 'loan': 0,\n",
       " 'contact': 0,\n",
       " 'month': 0,\n",
       " 'day_of_week': 0,\n",
       " 'duration': 0,\n",
       " 'campaign': 0,\n",
       " 'pdays': 0,\n",
       " 'previous': 0,\n",
       " 'poutcome': 0,\n",
       " 'employment_variation_rate': 0,\n",
       " 'consumer_price_index': 0,\n",
       " 'consumer_confidence_index': 0,\n",
       " 'euribor_3_monthrate': 0,\n",
       " 'number_of_employees': 0,\n",
       " 'outcome': 0}"
      ]
     },
     "execution_count": 11,
     "metadata": {},
     "output_type": "execute_result"
    }
   ],
   "source": [
    "#Method 2 for nulls\n",
    "Dict_Null = {col:df.filter(df[col].isNull()).count() for col in df.columns}\n",
    "Dict_Null"
   ]
  },
  {
   "cell_type": "code",
   "execution_count": 12,
   "id": "18964614",
   "metadata": {},
   "outputs": [
    {
     "data": {
      "text/plain": [
       "age                            78\n",
       "job                            12\n",
       "marital                         4\n",
       "education                       8\n",
       "credit_default                  3\n",
       "housing                         3\n",
       "loan                            3\n",
       "contact                         2\n",
       "month                          10\n",
       "day_of_week                     5\n",
       "duration                     1544\n",
       "campaign                       42\n",
       "pdays                          27\n",
       "previous                        8\n",
       "poutcome                        3\n",
       "employment_variation_rate      10\n",
       "consumer_price_index           26\n",
       "consumer_confidence_index      26\n",
       "euribor_3_monthrate           316\n",
       "number_of_employees            11\n",
       "outcome                         2\n",
       "dtype: int64"
      ]
     },
     "execution_count": 12,
     "metadata": {},
     "output_type": "execute_result"
    }
   ],
   "source": [
    "#Seeing caridinality\n",
    "\n",
    "df.toPandas().nunique()"
   ]
  },
  {
   "cell_type": "markdown",
   "id": "842eb536",
   "metadata": {},
   "source": [
    "### Categorical Columns and their unique values with distribution"
   ]
  },
  {
   "cell_type": "code",
   "execution_count": 13,
   "id": "c9fecea9",
   "metadata": {},
   "outputs": [
    {
     "data": {
      "text/plain": [
       "[Row(day_of_week='fri'),\n",
       " Row(day_of_week='thu'),\n",
       " Row(day_of_week='tue'),\n",
       " Row(day_of_week='wed'),\n",
       " Row(day_of_week='mon')]"
      ]
     },
     "execution_count": 13,
     "metadata": {},
     "output_type": "execute_result"
    }
   ],
   "source": [
    "#1. day_of_week\n",
    "df.select('day_of_week').distinct().collect()"
   ]
  },
  {
   "cell_type": "markdown",
   "id": "77e6b90f",
   "metadata": {},
   "source": [
    "There is no data for Saturday and Sunday."
   ]
  },
  {
   "cell_type": "code",
   "execution_count": 14,
   "id": "af5dab8e",
   "metadata": {},
   "outputs": [
    {
     "name": "stdout",
     "output_type": "stream",
     "text": [
      "+-----------+-----+\n",
      "|day_of_week|count|\n",
      "+-----------+-----+\n",
      "|        fri| 7827|\n",
      "|        thu| 8623|\n",
      "|        tue| 8090|\n",
      "|        wed| 8134|\n",
      "|        mon| 8514|\n",
      "+-----------+-----+\n",
      "\n"
     ]
    }
   ],
   "source": [
    "df.groupby(\"day_of_week\").count().show()"
   ]
  },
  {
   "cell_type": "markdown",
   "id": "dc24ceef",
   "metadata": {},
   "source": [
    "It is spanned almost equally for the given 5 days of week."
   ]
  },
  {
   "cell_type": "code",
   "execution_count": 15,
   "id": "1807a190",
   "metadata": {},
   "outputs": [
    {
     "data": {
      "text/plain": [
       "[Row(month='jun'),\n",
       " Row(month='aug'),\n",
       " Row(month='may'),\n",
       " Row(month='mar'),\n",
       " Row(month='oct'),\n",
       " Row(month='jul'),\n",
       " Row(month='nov'),\n",
       " Row(month='apr'),\n",
       " Row(month='dec'),\n",
       " Row(month='sep')]"
      ]
     },
     "execution_count": 15,
     "metadata": {},
     "output_type": "execute_result"
    }
   ],
   "source": [
    "#2. month\n",
    "df.select('month').distinct().collect()"
   ]
  },
  {
   "cell_type": "markdown",
   "id": "5139c89c",
   "metadata": {},
   "source": [
    "There is no data for January and Feburary."
   ]
  },
  {
   "cell_type": "code",
   "execution_count": 16,
   "id": "0ab75098",
   "metadata": {},
   "outputs": [
    {
     "name": "stdout",
     "output_type": "stream",
     "text": [
      "+-----+-----+\n",
      "|month|count|\n",
      "+-----+-----+\n",
      "|  jun| 5318|\n",
      "|  aug| 6178|\n",
      "|  may|13769|\n",
      "|  mar|  546|\n",
      "|  oct|  718|\n",
      "|  jul| 7174|\n",
      "|  nov| 4101|\n",
      "|  apr| 2632|\n",
      "|  dec|  182|\n",
      "|  sep|  570|\n",
      "+-----+-----+\n",
      "\n"
     ]
    }
   ],
   "source": [
    "df.groupby(\"month\").count().show()"
   ]
  },
  {
   "cell_type": "markdown",
   "id": "f94c99c3",
   "metadata": {},
   "source": [
    "Months such as September, December, October & March have way lesser datapoints compared to the other months."
   ]
  },
  {
   "cell_type": "code",
   "execution_count": 17,
   "id": "f87341ad",
   "metadata": {},
   "outputs": [
    {
     "data": {
      "text/plain": [
       "[Row(marital='unknown'),\n",
       " Row(marital='divorced'),\n",
       " Row(marital='married'),\n",
       " Row(marital='single')]"
      ]
     },
     "execution_count": 17,
     "metadata": {},
     "output_type": "execute_result"
    }
   ],
   "source": [
    "#3. marital\n",
    "df.select('marital').distinct().collect()"
   ]
  },
  {
   "cell_type": "code",
   "execution_count": 18,
   "id": "20da7f2c",
   "metadata": {},
   "outputs": [
    {
     "name": "stdout",
     "output_type": "stream",
     "text": [
      "+--------+-----+\n",
      "| marital|count|\n",
      "+--------+-----+\n",
      "| unknown|   80|\n",
      "|divorced| 4612|\n",
      "| married|24928|\n",
      "|  single|11568|\n",
      "+--------+-----+\n",
      "\n"
     ]
    }
   ],
   "source": [
    "df.groupby(\"marital\").count().show()"
   ]
  },
  {
   "cell_type": "code",
   "execution_count": 19,
   "id": "a21d6af5",
   "metadata": {},
   "outputs": [],
   "source": [
    "#Very less data points for divorced and only 80 unknowns"
   ]
  },
  {
   "cell_type": "code",
   "execution_count": 20,
   "id": "d7bab21e",
   "metadata": {},
   "outputs": [
    {
     "data": {
      "text/plain": [
       "[Row(education='high.school'),\n",
       " Row(education='unknown'),\n",
       " Row(education='basic.6y'),\n",
       " Row(education='professional.course'),\n",
       " Row(education='university.degree'),\n",
       " Row(education='illiterate'),\n",
       " Row(education='basic.4y'),\n",
       " Row(education='basic.9y')]"
      ]
     },
     "execution_count": 20,
     "metadata": {},
     "output_type": "execute_result"
    }
   ],
   "source": [
    "#4. education\n",
    "df.select('education').distinct().collect()"
   ]
  },
  {
   "cell_type": "code",
   "execution_count": 21,
   "id": "2fe4cee4",
   "metadata": {},
   "outputs": [
    {
     "name": "stdout",
     "output_type": "stream",
     "text": [
      "+-------------------+-----+\n",
      "|          education|count|\n",
      "+-------------------+-----+\n",
      "|        high.school| 9515|\n",
      "|            unknown| 1731|\n",
      "|           basic.6y| 2292|\n",
      "|professional.course| 5243|\n",
      "|  university.degree|12168|\n",
      "|         illiterate|   18|\n",
      "|           basic.4y| 4176|\n",
      "|           basic.9y| 6045|\n",
      "+-------------------+-----+\n",
      "\n"
     ]
    }
   ],
   "source": [
    "df.groupby(\"education\").count().show()"
   ]
  },
  {
   "cell_type": "code",
   "execution_count": 22,
   "id": "cd11dcbf",
   "metadata": {},
   "outputs": [
    {
     "data": {
      "text/plain": [
       "[Row(housing='unknown'), Row(housing='no'), Row(housing='yes')]"
      ]
     },
     "execution_count": 22,
     "metadata": {},
     "output_type": "execute_result"
    }
   ],
   "source": [
    "#5. housing\n",
    "df.select('housing').distinct().collect()"
   ]
  },
  {
   "cell_type": "code",
   "execution_count": 23,
   "id": "bc3d07cc",
   "metadata": {},
   "outputs": [
    {
     "name": "stdout",
     "output_type": "stream",
     "text": [
      "+-------+-----+\n",
      "|housing|count|\n",
      "+-------+-----+\n",
      "|unknown|  990|\n",
      "|     no|18622|\n",
      "|    yes|21576|\n",
      "+-------+-----+\n",
      "\n"
     ]
    }
   ],
   "source": [
    "df.groupby(\"housing\").count().show()"
   ]
  },
  {
   "cell_type": "code",
   "execution_count": 24,
   "id": "d72eaaf2",
   "metadata": {},
   "outputs": [],
   "source": [
    "#Yes and no values for housing with only a few (around 900) unknows"
   ]
  },
  {
   "cell_type": "code",
   "execution_count": 25,
   "id": "80fc734c",
   "metadata": {},
   "outputs": [
    {
     "data": {
      "text/plain": [
       "[Row(loan='unknown'), Row(loan='no'), Row(loan='yes')]"
      ]
     },
     "execution_count": 25,
     "metadata": {},
     "output_type": "execute_result"
    }
   ],
   "source": [
    "#6. loan\n",
    "df.select('loan').distinct().collect()"
   ]
  },
  {
   "cell_type": "code",
   "execution_count": 26,
   "id": "3eda935d",
   "metadata": {},
   "outputs": [
    {
     "name": "stdout",
     "output_type": "stream",
     "text": [
      "+-------+-----+\n",
      "|   loan|count|\n",
      "+-------+-----+\n",
      "|unknown|  990|\n",
      "|     no|33950|\n",
      "|    yes| 6248|\n",
      "+-------+-----+\n",
      "\n"
     ]
    }
   ],
   "source": [
    "df.groupby(\"loan\").count().show()"
   ]
  },
  {
   "cell_type": "code",
   "execution_count": 27,
   "id": "33ecf06a",
   "metadata": {},
   "outputs": [
    {
     "data": {
      "text/plain": [
       "[Row(poutcome='success'), Row(poutcome='failure'), Row(poutcome='nonexistent')]"
      ]
     },
     "execution_count": 27,
     "metadata": {},
     "output_type": "execute_result"
    }
   ],
   "source": [
    "#7. poutcome\n",
    "df.select('poutcome').distinct().collect()"
   ]
  },
  {
   "cell_type": "code",
   "execution_count": 28,
   "id": "7b58e85b",
   "metadata": {},
   "outputs": [
    {
     "name": "stdout",
     "output_type": "stream",
     "text": [
      "+-----------+-----+\n",
      "|   poutcome|count|\n",
      "+-----------+-----+\n",
      "|    success| 1373|\n",
      "|    failure| 4252|\n",
      "|nonexistent|35563|\n",
      "+-----------+-----+\n",
      "\n"
     ]
    }
   ],
   "source": [
    "df.groupby(\"poutcome\").count().show()"
   ]
  },
  {
   "cell_type": "code",
   "execution_count": 29,
   "id": "42995dec",
   "metadata": {},
   "outputs": [
    {
     "data": {
      "text/plain": [
       "[Row(contact='cellular'), Row(contact='telephone')]"
      ]
     },
     "execution_count": 29,
     "metadata": {},
     "output_type": "execute_result"
    }
   ],
   "source": [
    "#8. contact\n",
    "df.select('contact').distinct().collect()"
   ]
  },
  {
   "cell_type": "code",
   "execution_count": 30,
   "id": "3ad8075a",
   "metadata": {},
   "outputs": [
    {
     "name": "stdout",
     "output_type": "stream",
     "text": [
      "+---------+-----+\n",
      "|  contact|count|\n",
      "+---------+-----+\n",
      "| cellular|26144|\n",
      "|telephone|15044|\n",
      "+---------+-----+\n",
      "\n"
     ]
    }
   ],
   "source": [
    "df.groupby(\"contact\").count().show()"
   ]
  },
  {
   "cell_type": "code",
   "execution_count": 31,
   "id": "df037271",
   "metadata": {},
   "outputs": [
    {
     "data": {
      "text/plain": [
       "[Row(credit_default='unknown'),\n",
       " Row(credit_default='no'),\n",
       " Row(credit_default='yes')]"
      ]
     },
     "execution_count": 31,
     "metadata": {},
     "output_type": "execute_result"
    }
   ],
   "source": [
    "#9. credit_default\n",
    "df.select('credit_default').distinct().collect()"
   ]
  },
  {
   "cell_type": "code",
   "execution_count": 32,
   "id": "24cfc298",
   "metadata": {},
   "outputs": [
    {
     "name": "stdout",
     "output_type": "stream",
     "text": [
      "+--------------+-----+\n",
      "|credit_default|count|\n",
      "+--------------+-----+\n",
      "|       unknown| 8597|\n",
      "|            no|32588|\n",
      "|           yes|    3|\n",
      "+--------------+-----+\n",
      "\n"
     ]
    }
   ],
   "source": [
    "df.groupby(\"credit_default\").count().show()"
   ]
  },
  {
   "cell_type": "code",
   "execution_count": 33,
   "id": "c45814fe",
   "metadata": {},
   "outputs": [
    {
     "data": {
      "text/plain": [
       "[Row(job='management'),\n",
       " Row(job='retired'),\n",
       " Row(job='unknown'),\n",
       " Row(job='self-employed'),\n",
       " Row(job='student'),\n",
       " Row(job='blue-collar'),\n",
       " Row(job='entrepreneur'),\n",
       " Row(job='admin.'),\n",
       " Row(job='technician'),\n",
       " Row(job='services'),\n",
       " Row(job='housemaid'),\n",
       " Row(job='unemployed')]"
      ]
     },
     "execution_count": 33,
     "metadata": {},
     "output_type": "execute_result"
    }
   ],
   "source": [
    "#10. job\n",
    "df.select('job').distinct().collect()"
   ]
  },
  {
   "cell_type": "code",
   "execution_count": 34,
   "id": "3b40edc0",
   "metadata": {},
   "outputs": [
    {
     "name": "stdout",
     "output_type": "stream",
     "text": [
      "+-------------+-----+\n",
      "|          job|count|\n",
      "+-------------+-----+\n",
      "|   management| 2924|\n",
      "|      retired| 1720|\n",
      "|      unknown|  330|\n",
      "|self-employed| 1421|\n",
      "|      student|  875|\n",
      "|  blue-collar| 9254|\n",
      "| entrepreneur| 1456|\n",
      "|       admin.|10422|\n",
      "|   technician| 6743|\n",
      "|     services| 3969|\n",
      "|    housemaid| 1060|\n",
      "|   unemployed| 1014|\n",
      "+-------------+-----+\n",
      "\n"
     ]
    }
   ],
   "source": [
    "df.groupby(\"job\").count().show()"
   ]
  },
  {
   "cell_type": "code",
   "execution_count": 35,
   "id": "923c232a",
   "metadata": {},
   "outputs": [
    {
     "data": {
      "text/plain": [
       "[Row(outcome='no'), Row(outcome='yes')]"
      ]
     },
     "execution_count": 35,
     "metadata": {},
     "output_type": "execute_result"
    }
   ],
   "source": [
    "#11. Target variable distribution- outcome\n",
    "df.select('outcome').distinct().collect()"
   ]
  },
  {
   "cell_type": "code",
   "execution_count": 36,
   "id": "334df006",
   "metadata": {},
   "outputs": [
    {
     "name": "stdout",
     "output_type": "stream",
     "text": [
      "+-------+-----+\n",
      "|outcome|count|\n",
      "+-------+-----+\n",
      "|     no|36548|\n",
      "|    yes| 4640|\n",
      "+-------+-----+\n",
      "\n"
     ]
    }
   ],
   "source": [
    "df.groupby(\"outcome\").count().show()"
   ]
  },
  {
   "cell_type": "markdown",
   "id": "a425d364",
   "metadata": {},
   "source": [
    "### Numeric Columns - Summary Statistics"
   ]
  },
  {
   "cell_type": "code",
   "execution_count": 37,
   "id": "1e3e0fdc",
   "metadata": {},
   "outputs": [
    {
     "data": {
      "text/html": [
       "<div>\n",
       "<style scoped>\n",
       "    .dataframe tbody tr th:only-of-type {\n",
       "        vertical-align: middle;\n",
       "    }\n",
       "\n",
       "    .dataframe tbody tr th {\n",
       "        vertical-align: top;\n",
       "    }\n",
       "\n",
       "    .dataframe thead th {\n",
       "        text-align: right;\n",
       "    }\n",
       "</style>\n",
       "<table border=\"1\" class=\"dataframe\">\n",
       "  <thead>\n",
       "    <tr style=\"text-align: right;\">\n",
       "      <th></th>\n",
       "      <th>0</th>\n",
       "      <th>1</th>\n",
       "      <th>2</th>\n",
       "      <th>3</th>\n",
       "      <th>4</th>\n",
       "    </tr>\n",
       "  </thead>\n",
       "  <tbody>\n",
       "    <tr>\n",
       "      <th>summary</th>\n",
       "      <td>count</td>\n",
       "      <td>mean</td>\n",
       "      <td>stddev</td>\n",
       "      <td>min</td>\n",
       "      <td>max</td>\n",
       "    </tr>\n",
       "    <tr>\n",
       "      <th>age</th>\n",
       "      <td>41188</td>\n",
       "      <td>40.02406040594348</td>\n",
       "      <td>10.421249980934043</td>\n",
       "      <td>17</td>\n",
       "      <td>98</td>\n",
       "    </tr>\n",
       "    <tr>\n",
       "      <th>duration</th>\n",
       "      <td>41188</td>\n",
       "      <td>258.2850101971448</td>\n",
       "      <td>259.27924883646455</td>\n",
       "      <td>0</td>\n",
       "      <td>4918</td>\n",
       "    </tr>\n",
       "    <tr>\n",
       "      <th>campaign</th>\n",
       "      <td>41188</td>\n",
       "      <td>2.567592502670681</td>\n",
       "      <td>2.770013542902331</td>\n",
       "      <td>1</td>\n",
       "      <td>56</td>\n",
       "    </tr>\n",
       "    <tr>\n",
       "      <th>pdays</th>\n",
       "      <td>41188</td>\n",
       "      <td>962.4754540157328</td>\n",
       "      <td>186.910907344741</td>\n",
       "      <td>0</td>\n",
       "      <td>999</td>\n",
       "    </tr>\n",
       "    <tr>\n",
       "      <th>previous</th>\n",
       "      <td>41188</td>\n",
       "      <td>0.17296299893172767</td>\n",
       "      <td>0.49490107983928927</td>\n",
       "      <td>0</td>\n",
       "      <td>7</td>\n",
       "    </tr>\n",
       "  </tbody>\n",
       "</table>\n",
       "</div>"
      ],
      "text/plain": [
       "              0                    1                    2    3     4\n",
       "summary   count                 mean               stddev  min   max\n",
       "age       41188    40.02406040594348   10.421249980934043   17    98\n",
       "duration  41188    258.2850101971448   259.27924883646455    0  4918\n",
       "campaign  41188    2.567592502670681    2.770013542902331    1    56\n",
       "pdays     41188    962.4754540157328     186.910907344741    0   999\n",
       "previous  41188  0.17296299893172767  0.49490107983928927    0     7"
      ]
     },
     "execution_count": 37,
     "metadata": {},
     "output_type": "execute_result"
    }
   ],
   "source": [
    "#Summary Statistics for \"int\" type columns\n",
    "\n",
    "numeric_features = [t[0] for t in df.dtypes if t[1] == 'int']\n",
    "df.select(numeric_features).describe().toPandas().transpose()"
   ]
  },
  {
   "cell_type": "code",
   "execution_count": 38,
   "id": "2672ed57",
   "metadata": {},
   "outputs": [
    {
     "data": {
      "text/html": [
       "<div>\n",
       "<style scoped>\n",
       "    .dataframe tbody tr th:only-of-type {\n",
       "        vertical-align: middle;\n",
       "    }\n",
       "\n",
       "    .dataframe tbody tr th {\n",
       "        vertical-align: top;\n",
       "    }\n",
       "\n",
       "    .dataframe thead th {\n",
       "        text-align: right;\n",
       "    }\n",
       "</style>\n",
       "<table border=\"1\" class=\"dataframe\">\n",
       "  <thead>\n",
       "    <tr style=\"text-align: right;\">\n",
       "      <th></th>\n",
       "      <th>0</th>\n",
       "      <th>1</th>\n",
       "      <th>2</th>\n",
       "      <th>3</th>\n",
       "      <th>4</th>\n",
       "    </tr>\n",
       "  </thead>\n",
       "  <tbody>\n",
       "    <tr>\n",
       "      <th>summary</th>\n",
       "      <td>count</td>\n",
       "      <td>mean</td>\n",
       "      <td>stddev</td>\n",
       "      <td>min</td>\n",
       "      <td>max</td>\n",
       "    </tr>\n",
       "    <tr>\n",
       "      <th>employment_variation_rate</th>\n",
       "      <td>41188</td>\n",
       "      <td>0.08188550063178966</td>\n",
       "      <td>1.57095974051703</td>\n",
       "      <td>-3.4</td>\n",
       "      <td>1.4</td>\n",
       "    </tr>\n",
       "    <tr>\n",
       "      <th>consumer_price_index</th>\n",
       "      <td>41188</td>\n",
       "      <td>93.5756643682899</td>\n",
       "      <td>0.5788400489540823</td>\n",
       "      <td>92.201</td>\n",
       "      <td>94.767</td>\n",
       "    </tr>\n",
       "    <tr>\n",
       "      <th>consumer_confidence_index</th>\n",
       "      <td>41188</td>\n",
       "      <td>-40.502600271918276</td>\n",
       "      <td>4.628197856174573</td>\n",
       "      <td>-50.8</td>\n",
       "      <td>-26.9</td>\n",
       "    </tr>\n",
       "    <tr>\n",
       "      <th>euribor_3_monthrate</th>\n",
       "      <td>41188</td>\n",
       "      <td>3.621290812858533</td>\n",
       "      <td>1.7344474048512595</td>\n",
       "      <td>0.634</td>\n",
       "      <td>5.045</td>\n",
       "    </tr>\n",
       "    <tr>\n",
       "      <th>number_of_employees</th>\n",
       "      <td>41188</td>\n",
       "      <td>5167.035910943957</td>\n",
       "      <td>72.25152766826338</td>\n",
       "      <td>4963.6</td>\n",
       "      <td>5228.1</td>\n",
       "    </tr>\n",
       "  </tbody>\n",
       "</table>\n",
       "</div>"
      ],
      "text/plain": [
       "                               0                    1                   2  \\\n",
       "summary                    count                 mean              stddev   \n",
       "employment_variation_rate  41188  0.08188550063178966    1.57095974051703   \n",
       "consumer_price_index       41188     93.5756643682899  0.5788400489540823   \n",
       "consumer_confidence_index  41188  -40.502600271918276   4.628197856174573   \n",
       "euribor_3_monthrate        41188    3.621290812858533  1.7344474048512595   \n",
       "number_of_employees        41188    5167.035910943957   72.25152766826338   \n",
       "\n",
       "                                3       4  \n",
       "summary                       min     max  \n",
       "employment_variation_rate    -3.4     1.4  \n",
       "consumer_price_index       92.201  94.767  \n",
       "consumer_confidence_index   -50.8   -26.9  \n",
       "euribor_3_monthrate         0.634   5.045  \n",
       "number_of_employees        4963.6  5228.1  "
      ]
     },
     "execution_count": 38,
     "metadata": {},
     "output_type": "execute_result"
    }
   ],
   "source": [
    "#Summary Statistics for \"double\" type columns\n",
    "\n",
    "numeric_features = [t[0] for t in df.dtypes if t[1] == 'double']\n",
    "df.select(numeric_features).describe().toPandas().transpose()"
   ]
  },
  {
   "cell_type": "markdown",
   "id": "2e36f18f",
   "metadata": {},
   "source": [
    "## Visualization"
   ]
  },
  {
   "cell_type": "markdown",
   "id": "f5b62d1e",
   "metadata": {},
   "source": [
    "Since PySpark has no plotting functionality, we have made use matplotlib in Pandas for creating the plots below."
   ]
  },
  {
   "cell_type": "code",
   "execution_count": 39,
   "id": "d37f2c56",
   "metadata": {},
   "outputs": [
    {
     "data": {
      "image/png": "[encoded data removed]",
      "text/plain": [
       "<Figure size 1800x1080 with 10 Axes>"
      ]
     },
     "metadata": {},
     "output_type": "display_data"
    }
   ],
   "source": [
    "from matplotlib import cm\n",
    "fig = plt.figure(figsize=(25,15)) ## Plot Size \n",
    "st = fig.suptitle(\"Distribution of Features\", fontsize=50,\n",
    "                  verticalalignment='center') # Plot Main Title \n",
    "\n",
    "for col,num in zip(df.toPandas().describe().columns, range(1,11)):\n",
    "    ax = fig.add_subplot(3,4,num)\n",
    "    ax.hist(df.toPandas()[col])\n",
    "    plt.style.use('dark_background') \n",
    "    plt.grid(False)\n",
    "    plt.xticks(rotation=45,fontsize=20)\n",
    "    plt.yticks(fontsize=15)\n",
    "    plt.title(col.upper(),fontsize=20)\n",
    "plt.tight_layout()\n",
    "st.set_y(0.95)\n",
    "fig.subplots_adjust(top=0.85,hspace = 0.4)\n",
    "plt.show()"
   ]
  },
  {
   "cell_type": "markdown",
   "id": "45cf5eba",
   "metadata": {},
   "source": [
    "### Correlation"
   ]
  },
  {
   "cell_type": "code",
   "execution_count": 40,
   "id": "d3fa4ba7",
   "metadata": {},
   "outputs": [
    {
     "data": {
      "text/html": [
       "<div>\n",
       "<style scoped>\n",
       "    .dataframe tbody tr th:only-of-type {\n",
       "        vertical-align: middle;\n",
       "    }\n",
       "\n",
       "    .dataframe tbody tr th {\n",
       "        vertical-align: top;\n",
       "    }\n",
       "\n",
       "    .dataframe thead th {\n",
       "        text-align: right;\n",
       "    }\n",
       "</style>\n",
       "<table border=\"1\" class=\"dataframe\">\n",
       "  <thead>\n",
       "    <tr style=\"text-align: right;\">\n",
       "      <th></th>\n",
       "      <th>age</th>\n",
       "      <th>duration</th>\n",
       "      <th>campaign</th>\n",
       "      <th>pdays</th>\n",
       "      <th>previous</th>\n",
       "      <th>employment_variation_rate</th>\n",
       "      <th>consumer_price_index</th>\n",
       "      <th>consumer_confidence_index</th>\n",
       "      <th>euribor_3_monthrate</th>\n",
       "      <th>number_of_employees</th>\n",
       "    </tr>\n",
       "  </thead>\n",
       "  <tbody>\n",
       "    <tr>\n",
       "      <th>0</th>\n",
       "      <td>56</td>\n",
       "      <td>261</td>\n",
       "      <td>1</td>\n",
       "      <td>999</td>\n",
       "      <td>0</td>\n",
       "      <td>1.1</td>\n",
       "      <td>93.994</td>\n",
       "      <td>-36.4</td>\n",
       "      <td>4.857</td>\n",
       "      <td>5191.0</td>\n",
       "    </tr>\n",
       "    <tr>\n",
       "      <th>1</th>\n",
       "      <td>57</td>\n",
       "      <td>149</td>\n",
       "      <td>1</td>\n",
       "      <td>999</td>\n",
       "      <td>0</td>\n",
       "      <td>1.1</td>\n",
       "      <td>93.994</td>\n",
       "      <td>-36.4</td>\n",
       "      <td>4.857</td>\n",
       "      <td>5191.0</td>\n",
       "    </tr>\n",
       "    <tr>\n",
       "      <th>2</th>\n",
       "      <td>37</td>\n",
       "      <td>226</td>\n",
       "      <td>1</td>\n",
       "      <td>999</td>\n",
       "      <td>0</td>\n",
       "      <td>1.1</td>\n",
       "      <td>93.994</td>\n",
       "      <td>-36.4</td>\n",
       "      <td>4.857</td>\n",
       "      <td>5191.0</td>\n",
       "    </tr>\n",
       "    <tr>\n",
       "      <th>3</th>\n",
       "      <td>40</td>\n",
       "      <td>151</td>\n",
       "      <td>1</td>\n",
       "      <td>999</td>\n",
       "      <td>0</td>\n",
       "      <td>1.1</td>\n",
       "      <td>93.994</td>\n",
       "      <td>-36.4</td>\n",
       "      <td>4.857</td>\n",
       "      <td>5191.0</td>\n",
       "    </tr>\n",
       "    <tr>\n",
       "      <th>4</th>\n",
       "      <td>56</td>\n",
       "      <td>307</td>\n",
       "      <td>1</td>\n",
       "      <td>999</td>\n",
       "      <td>0</td>\n",
       "      <td>1.1</td>\n",
       "      <td>93.994</td>\n",
       "      <td>-36.4</td>\n",
       "      <td>4.857</td>\n",
       "      <td>5191.0</td>\n",
       "    </tr>\n",
       "  </tbody>\n",
       "</table>\n",
       "</div>"
      ],
      "text/plain": [
       "   age  duration  campaign  pdays  previous  employment_variation_rate  \\\n",
       "0   56       261         1    999         0                        1.1   \n",
       "1   57       149         1    999         0                        1.1   \n",
       "2   37       226         1    999         0                        1.1   \n",
       "3   40       151         1    999         0                        1.1   \n",
       "4   56       307         1    999         0                        1.1   \n",
       "\n",
       "   consumer_price_index  consumer_confidence_index  euribor_3_monthrate  \\\n",
       "0                93.994                      -36.4                4.857   \n",
       "1                93.994                      -36.4                4.857   \n",
       "2                93.994                      -36.4                4.857   \n",
       "3                93.994                      -36.4                4.857   \n",
       "4                93.994                      -36.4                4.857   \n",
       "\n",
       "   number_of_employees  \n",
       "0               5191.0  \n",
       "1               5191.0  \n",
       "2               5191.0  \n",
       "3               5191.0  \n",
       "4               5191.0  "
      ]
     },
     "execution_count": 40,
     "metadata": {},
     "output_type": "execute_result"
    }
   ],
   "source": [
    "#Creating a dataframe with only numeric columns\n",
    "numeric_features = [t[0] for t in df.dtypes if t[1] != 'string']\n",
    "numeric_features_df=df.select(numeric_features)\n",
    "numeric_features_df.toPandas().head()"
   ]
  },
  {
   "cell_type": "code",
   "execution_count": 41,
   "id": "ac10b795",
   "metadata": {
    "scrolled": true
   },
   "outputs": [
    {
     "data": {
      "text/plain": [
       "<AxesSubplot:>"
      ]
     },
     "execution_count": 41,
     "metadata": {},
     "output_type": "execute_result"
    },
    {
     "data": {
      "image/png": "[encoded data removed]",
      "text/plain": [
       "<Figure size 1080x720 with 2 Axes>"
      ]
     },
     "metadata": {},
     "output_type": "display_data"
    }
   ],
   "source": [
    "#Pearson Correlation\n",
    "\n",
    "col_names =numeric_features_df.columns\n",
    "features = numeric_features_df.rdd.map(lambda row: row[0:])\n",
    "corr_mat=Statistics.corr(features, method=\"pearson\")\n",
    "corr_df = pd.DataFrame(corr_mat)\n",
    "corr_df.index, corr_df.columns = col_names, col_names\n",
    "\n",
    "import seaborn as sns \n",
    "import matplotlib.pyplot as plt\n",
    "\n",
    "plt.figure(figsize=(15,10))  \n",
    "sns.heatmap(corr_df, \n",
    "            xticklabels=corr_df.columns.values,\n",
    "            yticklabels=corr_df.columns.values,  cmap=\"Greens\", annot=True)"
   ]
  },
  {
   "cell_type": "code",
   "execution_count": 42,
   "id": "db37e51a",
   "metadata": {},
   "outputs": [],
   "source": [
    "def udf_multiple(age):\n",
    "    if (age <= 25):\n",
    "        return 'Under 25'\n",
    "    elif (age >= 25 and age <= 35):\n",
    "        return 'Between 25 and 35'\n",
    "    elif (age > 35 and age < 50):\n",
    "        return 'Between 36 and 49'\n",
    "    elif (age >= 50):\n",
    "        return 'Over 50'\n",
    "    else: return 'N/A'\n",
    "\n",
    "education_udf = udf(udf_multiple)\n",
    "df=df.withColumn(\"Age_udf\", education_udf('Age'))"
   ]
  },
  {
   "cell_type": "code",
   "execution_count": 43,
   "id": "c8248603",
   "metadata": {},
   "outputs": [],
   "source": [
    "#In stages we are storing categorical variables which are encoded in on-Hot encoder method and string indexer method\n",
    "#We are chosing different ways to encode as no one encoding is better than the other. In some variables, one performs better than the other\n",
    "#In assemblerInputs, we are combining the categorical and numerical columns\n",
    "#The output from assembler is stored in variable name 'vectorised features' which we further use to deploy our models\n",
    "#We then standardide the vectors using standard scaler and the output for that is stored in 'features' column\n",
    "\n",
    "\n",
    "categoricalColumns = ['Age_udf','job','marital','education','credit_default','housing','loan','contact','month','day_of_week','poutcome']\n",
    "stages = []\n",
    "for categoricalCol in categoricalColumns:\n",
    "    stringIndexer = StringIndexer(inputCol = categoricalCol, outputCol = categoricalCol + 'Index')\n",
    "    encoder = OneHotEncoder(inputCols=[stringIndexer.getOutputCol()], outputCols=[categoricalCol + \"classVec\"])\n",
    "    stages += [stringIndexer, encoder]\n",
    "label_stringIdx = StringIndexer(inputCol = 'outcome', outputCol = 'label')\n",
    "stages += [label_stringIdx]\n",
    "numericCols = ['duration','campaign','pdays','previous','employment_variation_rate','consumer_price_index','consumer_confidence_index','euribor_3_monthrate','number_of_employees']\n",
    "assemblerInputs = [c + \"classVec\" for c in categoricalColumns] + numericCols\n",
    "assembler = VectorAssembler(inputCols=assemblerInputs, outputCol=\"vectorized_features\", handleInvalid=\"skip\") # use setHandleInvalid(\"skip\")\n",
    "stages += [assembler]\n",
    "scaler = StandardScaler(inputCol=\"vectorized_features\", outputCol=\"features\")\n",
    "stages += [scaler]"
   ]
  },
  {
   "cell_type": "code",
   "execution_count": 44,
   "id": "ce63ed99",
   "metadata": {},
   "outputs": [],
   "source": [
    "cols = df.columns"
   ]
  },
  {
   "cell_type": "code",
   "execution_count": 45,
   "id": "f24f0cb3",
   "metadata": {},
   "outputs": [
    {
     "data": {
      "text/plain": [
       "['age',\n",
       " 'job',\n",
       " 'marital',\n",
       " 'education',\n",
       " 'credit_default',\n",
       " 'housing',\n",
       " 'loan',\n",
       " 'contact',\n",
       " 'month',\n",
       " 'day_of_week',\n",
       " 'duration',\n",
       " 'campaign',\n",
       " 'pdays',\n",
       " 'previous',\n",
       " 'poutcome',\n",
       " 'employment_variation_rate',\n",
       " 'consumer_price_index',\n",
       " 'consumer_confidence_index',\n",
       " 'euribor_3_monthrate',\n",
       " 'number_of_employees',\n",
       " 'outcome',\n",
       " 'Age_udf']"
      ]
     },
     "execution_count": 45,
     "metadata": {},
     "output_type": "execute_result"
    }
   ],
   "source": [
    "cols"
   ]
  },
  {
   "cell_type": "code",
   "execution_count": 46,
   "id": "673c9dd9",
   "metadata": {},
   "outputs": [
    {
     "data": {
      "text/plain": [
       "[StringIndexer_bf03f0f67d82,\n",
       " OneHotEncoder_01fc64a423ab,\n",
       " StringIndexer_19398ffd132d,\n",
       " OneHotEncoder_de3c3e9db786,\n",
       " StringIndexer_8ff963518d20,\n",
       " OneHotEncoder_3af61c1716b8,\n",
       " StringIndexer_d5f7fb43082b,\n",
       " OneHotEncoder_981de4351a56,\n",
       " StringIndexer_d704dcc63754,\n",
       " OneHotEncoder_0c6f99457d79,\n",
       " StringIndexer_1e1fa1f41bc3,\n",
       " OneHotEncoder_c2271fb58805,\n",
       " StringIndexer_b235966c48b6,\n",
       " OneHotEncoder_b1bd5f131274,\n",
       " StringIndexer_1651839f5b1c,\n",
       " OneHotEncoder_70763625d266,\n",
       " StringIndexer_9b56ca4e4904,\n",
       " OneHotEncoder_97ceef10b760,\n",
       " StringIndexer_ce89996bd73b,\n",
       " OneHotEncoder_2477c946a561,\n",
       " StringIndexer_4b44bfbc83d1,\n",
       " OneHotEncoder_f28ddd9e449e,\n",
       " StringIndexer_9d13413ee8d6,\n",
       " VectorAssembler_2fc62545494f,\n",
       " StandardScaler_f2511416c5af]"
      ]
     },
     "execution_count": 46,
     "metadata": {},
     "output_type": "execute_result"
    }
   ],
   "source": [
    "stages"
   ]
  },
  {
   "cell_type": "code",
   "execution_count": 47,
   "id": "92a85774",
   "metadata": {
    "scrolled": true
   },
   "outputs": [
    {
     "name": "stdout",
     "output_type": "stream",
     "text": [
      "root\n",
      " |-- label: double (nullable = false)\n",
      " |-- features: vector (nullable = true)\n",
      " |-- age: integer (nullable = true)\n",
      " |-- job: string (nullable = true)\n",
      " |-- marital: string (nullable = true)\n",
      " |-- education: string (nullable = true)\n",
      " |-- credit_default: string (nullable = true)\n",
      " |-- housing: string (nullable = true)\n",
      " |-- loan: string (nullable = true)\n",
      " |-- contact: string (nullable = true)\n",
      " |-- month: string (nullable = true)\n",
      " |-- day_of_week: string (nullable = true)\n",
      " |-- duration: integer (nullable = true)\n",
      " |-- campaign: integer (nullable = true)\n",
      " |-- pdays: integer (nullable = true)\n",
      " |-- previous: integer (nullable = true)\n",
      " |-- poutcome: string (nullable = true)\n",
      " |-- employment_variation_rate: double (nullable = true)\n",
      " |-- consumer_price_index: double (nullable = true)\n",
      " |-- consumer_confidence_index: double (nullable = true)\n",
      " |-- euribor_3_monthrate: double (nullable = true)\n",
      " |-- number_of_employees: double (nullable = true)\n",
      " |-- outcome: string (nullable = true)\n",
      " |-- Age_udf: string (nullable = true)\n",
      "\n"
     ]
    }
   ],
   "source": [
    "cols = df.columns\n",
    "pipeline = Pipeline(stages = stages)\n",
    "pipelineModel = pipeline.fit(df)\n",
    "df = pipelineModel.transform(df)\n",
    "#selectedCols = ['label', 'features'] + cols\n",
    "selectedCols = ['label', 'features'] + cols\n",
    "df = df.select(selectedCols)\n",
    "df.printSchema()"
   ]
  },
  {
   "cell_type": "code",
   "execution_count": 48,
   "id": "f328b3d2",
   "metadata": {
    "scrolled": false
   },
   "outputs": [
    {
     "data": {
      "text/html": [
       "<div>\n",
       "<style scoped>\n",
       "    .dataframe tbody tr th:only-of-type {\n",
       "        vertical-align: middle;\n",
       "    }\n",
       "\n",
       "    .dataframe tbody tr th {\n",
       "        vertical-align: top;\n",
       "    }\n",
       "\n",
       "    .dataframe thead th {\n",
       "        text-align: right;\n",
       "    }\n",
       "</style>\n",
       "<table border=\"1\" class=\"dataframe\">\n",
       "  <thead>\n",
       "    <tr style=\"text-align: right;\">\n",
       "      <th></th>\n",
       "      <th>label</th>\n",
       "      <th>features</th>\n",
       "      <th>age</th>\n",
       "      <th>job</th>\n",
       "      <th>marital</th>\n",
       "      <th>education</th>\n",
       "      <th>credit_default</th>\n",
       "      <th>housing</th>\n",
       "      <th>loan</th>\n",
       "      <th>contact</th>\n",
       "      <th>...</th>\n",
       "      <th>pdays</th>\n",
       "      <th>previous</th>\n",
       "      <th>poutcome</th>\n",
       "      <th>employment_variation_rate</th>\n",
       "      <th>consumer_price_index</th>\n",
       "      <th>consumer_confidence_index</th>\n",
       "      <th>euribor_3_monthrate</th>\n",
       "      <th>number_of_employees</th>\n",
       "      <th>outcome</th>\n",
       "      <th>Age_udf</th>\n",
       "    </tr>\n",
       "  </thead>\n",
       "  <tbody>\n",
       "    <tr>\n",
       "      <th>0</th>\n",
       "      <td>0.0</td>\n",
       "      <td>(0.0, 0.0, 2.521170862475759, 0.0, 0.0, 0.0, 0...</td>\n",
       "      <td>56</td>\n",
       "      <td>housemaid</td>\n",
       "      <td>married</td>\n",
       "      <td>basic.4y</td>\n",
       "      <td>no</td>\n",
       "      <td>no</td>\n",
       "      <td>no</td>\n",
       "      <td>telephone</td>\n",
       "      <td>...</td>\n",
       "      <td>999</td>\n",
       "      <td>0</td>\n",
       "      <td>nonexistent</td>\n",
       "      <td>1.1</td>\n",
       "      <td>93.994</td>\n",
       "      <td>-36.4</td>\n",
       "      <td>4.857</td>\n",
       "      <td>5191.0</td>\n",
       "      <td>no</td>\n",
       "      <td>Over 50</td>\n",
       "    </tr>\n",
       "    <tr>\n",
       "      <th>1</th>\n",
       "      <td>0.0</td>\n",
       "      <td>(0.0, 0.0, 2.521170862475759, 0.0, 0.0, 0.0, 3...</td>\n",
       "      <td>57</td>\n",
       "      <td>services</td>\n",
       "      <td>married</td>\n",
       "      <td>high.school</td>\n",
       "      <td>unknown</td>\n",
       "      <td>no</td>\n",
       "      <td>no</td>\n",
       "      <td>telephone</td>\n",
       "      <td>...</td>\n",
       "      <td>999</td>\n",
       "      <td>0</td>\n",
       "      <td>nonexistent</td>\n",
       "      <td>1.1</td>\n",
       "      <td>93.994</td>\n",
       "      <td>-36.4</td>\n",
       "      <td>4.857</td>\n",
       "      <td>5191.0</td>\n",
       "      <td>no</td>\n",
       "      <td>Over 50</td>\n",
       "    </tr>\n",
       "    <tr>\n",
       "      <th>2</th>\n",
       "      <td>0.0</td>\n",
       "      <td>(2.0382855256725416, 0.0, 0.0, 0.0, 0.0, 0.0, ...</td>\n",
       "      <td>37</td>\n",
       "      <td>services</td>\n",
       "      <td>married</td>\n",
       "      <td>high.school</td>\n",
       "      <td>no</td>\n",
       "      <td>yes</td>\n",
       "      <td>no</td>\n",
       "      <td>telephone</td>\n",
       "      <td>...</td>\n",
       "      <td>999</td>\n",
       "      <td>0</td>\n",
       "      <td>nonexistent</td>\n",
       "      <td>1.1</td>\n",
       "      <td>93.994</td>\n",
       "      <td>-36.4</td>\n",
       "      <td>4.857</td>\n",
       "      <td>5191.0</td>\n",
       "      <td>no</td>\n",
       "      <td>Between 36 and 49</td>\n",
       "    </tr>\n",
       "    <tr>\n",
       "      <th>3</th>\n",
       "      <td>0.0</td>\n",
       "      <td>(2.0382855256725416, 0.0, 0.0, 2.3001405778663...</td>\n",
       "      <td>40</td>\n",
       "      <td>admin.</td>\n",
       "      <td>married</td>\n",
       "      <td>basic.6y</td>\n",
       "      <td>no</td>\n",
       "      <td>no</td>\n",
       "      <td>no</td>\n",
       "      <td>telephone</td>\n",
       "      <td>...</td>\n",
       "      <td>999</td>\n",
       "      <td>0</td>\n",
       "      <td>nonexistent</td>\n",
       "      <td>1.1</td>\n",
       "      <td>93.994</td>\n",
       "      <td>-36.4</td>\n",
       "      <td>4.857</td>\n",
       "      <td>5191.0</td>\n",
       "      <td>no</td>\n",
       "      <td>Between 36 and 49</td>\n",
       "    </tr>\n",
       "    <tr>\n",
       "      <th>4</th>\n",
       "      <td>0.0</td>\n",
       "      <td>(0.0, 0.0, 2.521170862475759, 0.0, 0.0, 0.0, 3...</td>\n",
       "      <td>56</td>\n",
       "      <td>services</td>\n",
       "      <td>married</td>\n",
       "      <td>high.school</td>\n",
       "      <td>no</td>\n",
       "      <td>no</td>\n",
       "      <td>yes</td>\n",
       "      <td>telephone</td>\n",
       "      <td>...</td>\n",
       "      <td>999</td>\n",
       "      <td>0</td>\n",
       "      <td>nonexistent</td>\n",
       "      <td>1.1</td>\n",
       "      <td>93.994</td>\n",
       "      <td>-36.4</td>\n",
       "      <td>4.857</td>\n",
       "      <td>5191.0</td>\n",
       "      <td>no</td>\n",
       "      <td>Over 50</td>\n",
       "    </tr>\n",
       "  </tbody>\n",
       "</table>\n",
       "<p>5 rows × 24 columns</p>\n",
       "</div>"
      ],
      "text/plain": [
       "   label                                           features  age        job  \\\n",
       "0    0.0  (0.0, 0.0, 2.521170862475759, 0.0, 0.0, 0.0, 0...   56  housemaid   \n",
       "1    0.0  (0.0, 0.0, 2.521170862475759, 0.0, 0.0, 0.0, 3...   57   services   \n",
       "2    0.0  (2.0382855256725416, 0.0, 0.0, 0.0, 0.0, 0.0, ...   37   services   \n",
       "3    0.0  (2.0382855256725416, 0.0, 0.0, 2.3001405778663...   40     admin.   \n",
       "4    0.0  (0.0, 0.0, 2.521170862475759, 0.0, 0.0, 0.0, 3...   56   services   \n",
       "\n",
       "   marital    education credit_default housing loan    contact  ... pdays  \\\n",
       "0  married     basic.4y             no      no   no  telephone  ...   999   \n",
       "1  married  high.school        unknown      no   no  telephone  ...   999   \n",
       "2  married  high.school             no     yes   no  telephone  ...   999   \n",
       "3  married     basic.6y             no      no   no  telephone  ...   999   \n",
       "4  married  high.school             no      no  yes  telephone  ...   999   \n",
       "\n",
       "  previous     poutcome  employment_variation_rate  consumer_price_index  \\\n",
       "0        0  nonexistent                        1.1                93.994   \n",
       "1        0  nonexistent                        1.1                93.994   \n",
       "2        0  nonexistent                        1.1                93.994   \n",
       "3        0  nonexistent                        1.1                93.994   \n",
       "4        0  nonexistent                        1.1                93.994   \n",
       "\n",
       "   consumer_confidence_index euribor_3_monthrate  number_of_employees  \\\n",
       "0                      -36.4               4.857               5191.0   \n",
       "1                      -36.4               4.857               5191.0   \n",
       "2                      -36.4               4.857               5191.0   \n",
       "3                      -36.4               4.857               5191.0   \n",
       "4                      -36.4               4.857               5191.0   \n",
       "\n",
       "   outcome            Age_udf  \n",
       "0       no            Over 50  \n",
       "1       no            Over 50  \n",
       "2       no  Between 36 and 49  \n",
       "3       no  Between 36 and 49  \n",
       "4       no            Over 50  \n",
       "\n",
       "[5 rows x 24 columns]"
      ]
     },
     "execution_count": 48,
     "metadata": {},
     "output_type": "execute_result"
    }
   ],
   "source": [
    "df.toPandas().head()"
   ]
  },
  {
   "cell_type": "code",
   "execution_count": 49,
   "id": "7c0f4966",
   "metadata": {},
   "outputs": [
    {
     "name": "stdout",
     "output_type": "stream",
     "text": [
      "Training Dataset Count: 32894\n",
      "Test Dataset Count: 8294\n"
     ]
    }
   ],
   "source": [
    "# Train/Test split\n",
    "train, test = df.randomSplit([0.8, 0.2], seed = 2018)\n",
    "print(\"Training Dataset Count: \" + str(train.count()))\n",
    "print(\"Test Dataset Count: \" + str(test.count()))"
   ]
  },
  {
   "cell_type": "code",
   "execution_count": 50,
   "id": "7ee754c5",
   "metadata": {},
   "outputs": [
    {
     "name": "stdout",
     "output_type": "stream",
     "text": [
      "+-------+-----+\n",
      "|Outcome|count|\n",
      "+-------+-----+\n",
      "|     no|29185|\n",
      "|    yes| 3709|\n",
      "+-------+-----+\n",
      "\n"
     ]
    }
   ],
   "source": [
    "train.groupby(\"Outcome\").count().show()"
   ]
  },
  {
   "cell_type": "code",
   "execution_count": 51,
   "id": "28c239b0",
   "metadata": {},
   "outputs": [
    {
     "data": {
      "text/html": [
       "<div>\n",
       "<style scoped>\n",
       "    .dataframe tbody tr th:only-of-type {\n",
       "        vertical-align: middle;\n",
       "    }\n",
       "\n",
       "    .dataframe tbody tr th {\n",
       "        vertical-align: top;\n",
       "    }\n",
       "\n",
       "    .dataframe thead th {\n",
       "        text-align: right;\n",
       "    }\n",
       "</style>\n",
       "<table border=\"1\" class=\"dataframe\">\n",
       "  <thead>\n",
       "    <tr style=\"text-align: right;\">\n",
       "      <th></th>\n",
       "      <th>label</th>\n",
       "      <th>features</th>\n",
       "      <th>rawPrediction</th>\n",
       "      <th>prediction</th>\n",
       "      <th>probability</th>\n",
       "    </tr>\n",
       "  </thead>\n",
       "  <tbody>\n",
       "    <tr>\n",
       "      <th>0</th>\n",
       "      <td>0.0</td>\n",
       "      <td>(2.0382855256725416, 0.0, 0.0, 2.3001405778663...</td>\n",
       "      <td>[3.47479241555094, -3.47479241555094]</td>\n",
       "      <td>0.0</td>\n",
       "      <td>[0.9699619640716175, 0.0300380359283825]</td>\n",
       "    </tr>\n",
       "    <tr>\n",
       "      <th>1</th>\n",
       "      <td>0.0</td>\n",
       "      <td>(2.0382855256725416, 0.0, 0.0, 2.3001405778663...</td>\n",
       "      <td>[3.431577308630363, -3.431577308630363]</td>\n",
       "      <td>0.0</td>\n",
       "      <td>[0.9686769616969143, 0.03132303830308569]</td>\n",
       "    </tr>\n",
       "    <tr>\n",
       "      <th>2</th>\n",
       "      <td>0.0</td>\n",
       "      <td>(2.0382855256725416, 0.0, 0.0, 2.3001405778663...</td>\n",
       "      <td>[3.7737573147506254, -3.7737573147506254]</td>\n",
       "      <td>0.0</td>\n",
       "      <td>[0.9775499668064876, 0.022450033193512353]</td>\n",
       "    </tr>\n",
       "    <tr>\n",
       "      <th>3</th>\n",
       "      <td>0.0</td>\n",
       "      <td>(2.0382855256725416, 0.0, 0.0, 2.3001405778663...</td>\n",
       "      <td>[3.87575121791048, -3.87575121791048]</td>\n",
       "      <td>0.0</td>\n",
       "      <td>[0.979682604737778, 0.020317395262221982]</td>\n",
       "    </tr>\n",
       "    <tr>\n",
       "      <th>4</th>\n",
       "      <td>0.0</td>\n",
       "      <td>(2.0382855256725416, 0.0, 0.0, 2.3001405778663...</td>\n",
       "      <td>[2.916065852500573, -2.916065852500573]</td>\n",
       "      <td>0.0</td>\n",
       "      <td>[0.9486349390881106, 0.051365060911889415]</td>\n",
       "    </tr>\n",
       "  </tbody>\n",
       "</table>\n",
       "</div>"
      ],
      "text/plain": [
       "   label                                           features  \\\n",
       "0    0.0  (2.0382855256725416, 0.0, 0.0, 2.3001405778663...   \n",
       "1    0.0  (2.0382855256725416, 0.0, 0.0, 2.3001405778663...   \n",
       "2    0.0  (2.0382855256725416, 0.0, 0.0, 2.3001405778663...   \n",
       "3    0.0  (2.0382855256725416, 0.0, 0.0, 2.3001405778663...   \n",
       "4    0.0  (2.0382855256725416, 0.0, 0.0, 2.3001405778663...   \n",
       "\n",
       "                               rawPrediction  prediction  \\\n",
       "0      [3.47479241555094, -3.47479241555094]         0.0   \n",
       "1    [3.431577308630363, -3.431577308630363]         0.0   \n",
       "2  [3.7737573147506254, -3.7737573147506254]         0.0   \n",
       "3      [3.87575121791048, -3.87575121791048]         0.0   \n",
       "4    [2.916065852500573, -2.916065852500573]         0.0   \n",
       "\n",
       "                                  probability  \n",
       "0    [0.9699619640716175, 0.0300380359283825]  \n",
       "1   [0.9686769616969143, 0.03132303830308569]  \n",
       "2  [0.9775499668064876, 0.022450033193512353]  \n",
       "3   [0.979682604737778, 0.020317395262221982]  \n",
       "4  [0.9486349390881106, 0.051365060911889415]  "
      ]
     },
     "execution_count": 51,
     "metadata": {},
     "output_type": "execute_result"
    }
   ],
   "source": [
    "# Model Training\n",
    "from pyspark.ml.classification import LogisticRegression\n",
    "lr = LogisticRegression(featuresCol = 'features', labelCol = 'label', maxIter=5)\n",
    "lrModel = lr.fit(train)\n",
    "predictions = lrModel.transform(test)\n",
    "#predictions_train = lrModel.transform(train)\n",
    "predictions.select('label', 'features',  'rawPrediction', 'prediction', 'probability').toPandas().head(5)"
   ]
  },
  {
   "cell_type": "code",
   "execution_count": 52,
   "id": "7c233aee",
   "metadata": {},
   "outputs": [],
   "source": [
    "# Confusion Matrix\n",
    "# This function prints and plots the confusion matrix.\n",
    "# Normalization can be applied by setting `normalize=True`.\n",
    "\n",
    "class_names=[1.0,0.0]\n",
    "import itertools\n",
    "def plot_confusion_matrix(cm, classes,\n",
    "                          normalize=False,\n",
    "                          title='Confusion matrix',\n",
    "                          cmap=plt.cm.Blues):\n",
    "   \n",
    "    if normalize:\n",
    "        cm = cm.astype('float') / cm.sum(axis=1)[:, np.newaxis]\n",
    "        print(\"Normalized confusion matrix\")\n",
    "    else:\n",
    "        print('Confusion matrix, without normalization')\n",
    "\n",
    "    print(cm)\n",
    "\n",
    "    plt.imshow(cm, interpolation='nearest', cmap=cmap)\n",
    "    plt.title(title)\n",
    "    plt.colorbar()\n",
    "    tick_marks = np.arange(len(classes))\n",
    "    plt.xticks(tick_marks, classes, rotation=45)\n",
    "    plt.yticks(tick_marks, classes)\n",
    "\n",
    "    fmt = '.2f' if normalize else 'd'\n",
    "    thresh = cm.max() / 2.\n",
    "    for i, j in itertools.product(range(cm.shape[0]), range(cm.shape[1])):\n",
    "        plt.text(j, i, format(cm[i, j], fmt),\n",
    "                 horizontalalignment=\"center\",\n",
    "                 color=\"white\" if cm[i, j] > thresh else \"black\")\n",
    "\n",
    "    plt.tight_layout()\n",
    "    plt.ylabel('True label')\n",
    "    plt.xlabel('Predicted label')"
   ]
  },
  {
   "cell_type": "code",
   "execution_count": 53,
   "id": "219d9a91",
   "metadata": {},
   "outputs": [
    {
     "name": "stdout",
     "output_type": "stream",
     "text": [
      "Confusion matrix, without normalization\n",
      "[[ 388  543]\n",
      " [ 217 7146]]\n"
     ]
    },
    {
     "data": {
      "image/png": "[encoded data removed]",
      "text/plain": [
       "<Figure size 432x288 with 2 Axes>"
      ]
     },
     "metadata": {},
     "output_type": "display_data"
    }
   ],
   "source": [
    "y_true = predictions.select(\"label\")\n",
    "y_true = y_true.toPandas()\n",
    "\n",
    "y_pred = predictions.select(\"prediction\")\n",
    "y_pred = y_pred.toPandas()\n",
    "\n",
    "cnf_matrix = confusion_matrix(y_true, y_pred,labels=class_names)\n",
    "#cnf_matrix\n",
    "plt.figure()\n",
    "plot_confusion_matrix(cnf_matrix, classes=class_names,\n",
    "                      title='Confusion matrix')\n",
    "plt.show()"
   ]
  },
  {
   "cell_type": "code",
   "execution_count": 54,
   "id": "afdaf9e7",
   "metadata": {},
   "outputs": [
    {
     "name": "stdout",
     "output_type": "stream",
     "text": [
      "Accuracy :  0.9083674945743911\n"
     ]
    }
   ],
   "source": [
    "#Accuracy\n",
    "accuracy = predictions.filter(predictions.label == predictions.prediction).count() / float(predictions.count())\n",
    "print(\"Accuracy : \",accuracy)"
   ]
  },
  {
   "cell_type": "code",
   "execution_count": 55,
   "id": "dacc3954",
   "metadata": {},
   "outputs": [
    {
     "data": {
      "image/png": "[encoded data removed]",
      "text/plain": [
       "<Figure size 432x288 with 1 Axes>"
      ]
     },
     "metadata": {},
     "output_type": "display_data"
    },
    {
     "name": "stdout",
     "output_type": "stream",
     "text": [
      "Training set areaUnderROC: 0.9365983487881662\n"
     ]
    }
   ],
   "source": [
    "trainingSummary = lrModel.summary\n",
    "roc = trainingSummary.roc.toPandas()\n",
    "plt.plot(roc['FPR'],roc['TPR'])\n",
    "plt.ylabel('False Positive Rate')\n",
    "plt.xlabel('True Positive Rate')\n",
    "plt.title('ROC Curve')\n",
    "plt.show()\n",
    "print('Training set areaUnderROC: ' + str(trainingSummary.areaUnderROC))"
   ]
  },
  {
   "cell_type": "code",
   "execution_count": 56,
   "id": "96a27179",
   "metadata": {},
   "outputs": [
    {
     "name": "stdout",
     "output_type": "stream",
     "text": [
      "Test Area Under ROC 0.9325914415459863\n"
     ]
    }
   ],
   "source": [
    "# Model Evaluation\n",
    "from pyspark.ml.evaluation import BinaryClassificationEvaluator\n",
    "evaluator = BinaryClassificationEvaluator()\n",
    "print('Test Area Under ROC', evaluator.evaluate(predictions))"
   ]
  },
  {
   "cell_type": "code",
   "execution_count": 57,
   "id": "4df3e7be",
   "metadata": {},
   "outputs": [],
   "source": [
    "## Cross Validation and Parameter Tuning\n",
    "from pyspark.ml.tuning import ParamGridBuilder, CrossValidator\n",
    "\n",
    "# Create ParamGrid for Cross Validation\n",
    "paramGrid = (ParamGridBuilder()\n",
    "             .addGrid(lr.regParam, [0.01, 0.5, 2.0])# regularization parameter\n",
    "             .addGrid(lr.elasticNetParam, [0.0, 0.5, 1.0])# Elastic Net Parameter (Ridge = 0)\n",
    "             .addGrid(lr.maxIter, [1, 5, 10])#Number of iterations\n",
    "             .build())\n",
    "\n",
    "cv = CrossValidator(estimator=lr, estimatorParamMaps=paramGrid, \n",
    "                    evaluator=evaluator, numFolds=5)\n",
    "\n",
    "cvModel = cv.fit(train)"
   ]
  },
  {
   "cell_type": "code",
   "execution_count": 58,
   "id": "db2215d2",
   "metadata": {},
   "outputs": [
    {
     "name": "stdout",
     "output_type": "stream",
     "text": [
      "Best Model Test Area Under ROC 0.9336848115515884\n"
     ]
    }
   ],
   "source": [
    "## Evaluate Best Model\n",
    "predictions = cvModel.transform(test)\n",
    "print('Best Model Test Area Under ROC', evaluator.evaluate(predictions))"
   ]
  },
  {
   "cell_type": "code",
   "execution_count": 59,
   "id": "4d340360",
   "metadata": {},
   "outputs": [
    {
     "data": {
      "text/plain": [
       "LogisticRegressionModel: uid=LogisticRegression_ffa93f3804af, numClasses=2, numFeatures=55"
      ]
     },
     "execution_count": 59,
     "metadata": {},
     "output_type": "execute_result"
    }
   ],
   "source": [
    "cvModel.bestModel"
   ]
  },
  {
   "cell_type": "code",
   "execution_count": 60,
   "id": "8bf4dfbd",
   "metadata": {},
   "outputs": [
    {
     "data": {
      "text/html": [
       "<div>\n",
       "<style scoped>\n",
       "    .dataframe tbody tr th:only-of-type {\n",
       "        vertical-align: middle;\n",
       "    }\n",
       "\n",
       "    .dataframe tbody tr th {\n",
       "        vertical-align: top;\n",
       "    }\n",
       "\n",
       "    .dataframe thead th {\n",
       "        text-align: right;\n",
       "    }\n",
       "</style>\n",
       "<table border=\"1\" class=\"dataframe\">\n",
       "  <thead>\n",
       "    <tr style=\"text-align: right;\">\n",
       "      <th></th>\n",
       "      <th>Feature Weight</th>\n",
       "    </tr>\n",
       "  </thead>\n",
       "  <tbody>\n",
       "    <tr>\n",
       "      <th>0</th>\n",
       "      <td>-0.026672</td>\n",
       "    </tr>\n",
       "    <tr>\n",
       "      <th>1</th>\n",
       "      <td>0.000000</td>\n",
       "    </tr>\n",
       "    <tr>\n",
       "      <th>2</th>\n",
       "      <td>0.000510</td>\n",
       "    </tr>\n",
       "    <tr>\n",
       "      <th>3</th>\n",
       "      <td>0.000000</td>\n",
       "    </tr>\n",
       "    <tr>\n",
       "      <th>4</th>\n",
       "      <td>-0.036627</td>\n",
       "    </tr>\n",
       "    <tr>\n",
       "      <th>5</th>\n",
       "      <td>0.000000</td>\n",
       "    </tr>\n",
       "    <tr>\n",
       "      <th>6</th>\n",
       "      <td>0.000000</td>\n",
       "    </tr>\n",
       "    <tr>\n",
       "      <th>7</th>\n",
       "      <td>0.000000</td>\n",
       "    </tr>\n",
       "    <tr>\n",
       "      <th>8</th>\n",
       "      <td>0.041266</td>\n",
       "    </tr>\n",
       "    <tr>\n",
       "      <th>9</th>\n",
       "      <td>0.000000</td>\n",
       "    </tr>\n",
       "  </tbody>\n",
       "</table>\n",
       "</div>"
      ],
      "text/plain": [
       "   Feature Weight\n",
       "0       -0.026672\n",
       "1        0.000000\n",
       "2        0.000510\n",
       "3        0.000000\n",
       "4       -0.036627\n",
       "5        0.000000\n",
       "6        0.000000\n",
       "7        0.000000\n",
       "8        0.041266\n",
       "9        0.000000"
      ]
     },
     "execution_count": 60,
     "metadata": {},
     "output_type": "execute_result"
    }
   ],
   "source": [
    "weights = cvModel.bestModel.coefficients\n",
    "weights = [(float(w),) for w in weights]\n",
    "weightsDF = sqlContext.createDataFrame(weights, [\"Feature Weight\"])\n",
    "weightsDF.toPandas().head(10)"
   ]
  },
  {
   "cell_type": "code",
   "execution_count": 61,
   "id": "10d9fb8a",
   "metadata": {},
   "outputs": [],
   "source": [
    "best_model=cvModel.bestModel"
   ]
  },
  {
   "cell_type": "code",
   "execution_count": 62,
   "id": "b79f8e7c",
   "metadata": {},
   "outputs": [
    {
     "data": {
      "text/plain": [
       "['aggregationDepth: suggested depth for treeAggregate (>= 2). (default: 2)',\n",
       " 'elasticNetParam: the ElasticNet mixing parameter, in range [0, 1]. For alpha = 0, the penalty is an L2 penalty. For alpha = 1, it is an L1 penalty. (default: 0.0, current: 0.5)',\n",
       " 'family: The name of family which is a description of the label distribution to be used in the model. Supported options: auto, binomial, multinomial (default: auto)',\n",
       " 'featuresCol: features column name. (default: features, current: features)',\n",
       " 'fitIntercept: whether to fit an intercept term. (default: True)',\n",
       " 'labelCol: label column name. (default: label, current: label)',\n",
       " 'lowerBoundsOnCoefficients: The lower bounds on coefficients if fitting under bound constrained optimization. The bound matrix must be compatible with the shape (1, number of features) for binomial regression, or (number of classes, number of features) for multinomial regression. (undefined)',\n",
       " 'lowerBoundsOnIntercepts: The lower bounds on intercepts if fitting under bound constrained optimization. The bounds vector size must beequal with 1 for binomial regression, or the number oflasses for multinomial regression. (undefined)',\n",
       " 'maxBlockSizeInMB: maximum memory in MB for stacking input data into blocks. Data is stacked within partitions. If more than remaining data size in a partition then it is adjusted to the data size. Default 0.0 represents choosing optimal value, depends on specific algorithm. Must be >= 0. (default: 0.0)',\n",
       " 'maxIter: max number of iterations (>= 0). (default: 100, current: 5)',\n",
       " 'predictionCol: prediction column name. (default: prediction)',\n",
       " 'probabilityCol: Column name for predicted class conditional probabilities. Note: Not all models output well-calibrated probability estimates! These probabilities should be treated as confidences, not precise probabilities. (default: probability)',\n",
       " 'rawPredictionCol: raw prediction (a.k.a. confidence) column name. (default: rawPrediction)',\n",
       " 'regParam: regularization parameter (>= 0). (default: 0.0, current: 0.01)',\n",
       " 'standardization: whether to standardize the training features before fitting the model. (default: True)',\n",
       " 'threshold: Threshold in binary classification prediction, in range [0, 1]. If threshold and thresholds are both set, they must match.e.g. if threshold is p, then thresholds must be equal to [1-p, p]. (default: 0.5)',\n",
       " \"thresholds: Thresholds in multi-class classification to adjust the probability of predicting each class. Array must have length equal to the number of classes, with values > 0, excepting that at most one value may be 0. The class with largest value p/t is predicted, where p is the original probability of that class and t is the class's threshold. (undefined)\",\n",
       " 'tol: the convergence tolerance for iterative algorithms (>= 0). (default: 1e-06)',\n",
       " 'upperBoundsOnCoefficients: The upper bounds on coefficients if fitting under bound constrained optimization. The bound matrix must be compatible with the shape (1, number of features) for binomial regression, or (number of classes, number of features) for multinomial regression. (undefined)',\n",
       " 'upperBoundsOnIntercepts: The upper bounds on intercepts if fitting under bound constrained optimization. The bound vector size must be equal with 1 for binomial regression, or the number of classes for multinomial regression. (undefined)',\n",
       " 'weightCol: weight column name. If this is not set or empty, we treat all instance weights as 1.0. (undefined)']"
      ]
     },
     "execution_count": 62,
     "metadata": {},
     "output_type": "execute_result"
    }
   ],
   "source": [
    "best_model.explainParams().split(\"\\n\")"
   ]
  },
  {
   "cell_type": "code",
   "execution_count": 63,
   "id": "476f94af",
   "metadata": {},
   "outputs": [],
   "source": [
    "# Decision Trees"
   ]
  },
  {
   "cell_type": "code",
   "execution_count": 64,
   "id": "a58b8cf7",
   "metadata": {},
   "outputs": [],
   "source": [
    "from pyspark import SparkContext\n",
    "from pyspark.sql import SQLContext\n",
    "from pyspark.ml.classification import DecisionTreeClassifier\n",
    "from pyspark.ml.evaluation import MulticlassClassificationEvaluator\n",
    "from pyspark.ml.feature import VectorAssembler\n",
    "from sklearn.metrics import confusion_matrix\n",
    "import pandas as pd \n",
    " "
   ]
  },
  {
   "cell_type": "code",
   "execution_count": 65,
   "id": "f6545ef9",
   "metadata": {},
   "outputs": [
    {
     "data": {
      "text/html": [
       "<div>\n",
       "<style scoped>\n",
       "    .dataframe tbody tr th:only-of-type {\n",
       "        vertical-align: middle;\n",
       "    }\n",
       "\n",
       "    .dataframe tbody tr th {\n",
       "        vertical-align: top;\n",
       "    }\n",
       "\n",
       "    .dataframe thead th {\n",
       "        text-align: right;\n",
       "    }\n",
       "</style>\n",
       "<table border=\"1\" class=\"dataframe\">\n",
       "  <thead>\n",
       "    <tr style=\"text-align: right;\">\n",
       "      <th></th>\n",
       "      <th>label</th>\n",
       "      <th>features</th>\n",
       "      <th>age</th>\n",
       "      <th>job</th>\n",
       "      <th>marital</th>\n",
       "      <th>education</th>\n",
       "      <th>credit_default</th>\n",
       "      <th>housing</th>\n",
       "      <th>loan</th>\n",
       "      <th>contact</th>\n",
       "      <th>...</th>\n",
       "      <th>employment_variation_rate</th>\n",
       "      <th>consumer_price_index</th>\n",
       "      <th>consumer_confidence_index</th>\n",
       "      <th>euribor_3_monthrate</th>\n",
       "      <th>number_of_employees</th>\n",
       "      <th>outcome</th>\n",
       "      <th>Age_udf</th>\n",
       "      <th>rawPrediction</th>\n",
       "      <th>probability</th>\n",
       "      <th>prediction</th>\n",
       "    </tr>\n",
       "  </thead>\n",
       "  <tbody>\n",
       "    <tr>\n",
       "      <th>0</th>\n",
       "      <td>0.0</td>\n",
       "      <td>(2.0382855256725416, 0.0, 0.0, 2.3001405778663...</td>\n",
       "      <td>39</td>\n",
       "      <td>admin.</td>\n",
       "      <td>married</td>\n",
       "      <td>university.degree</td>\n",
       "      <td>no</td>\n",
       "      <td>yes</td>\n",
       "      <td>no</td>\n",
       "      <td>cellular</td>\n",
       "      <td>...</td>\n",
       "      <td>1.4</td>\n",
       "      <td>93.918</td>\n",
       "      <td>-42.7</td>\n",
       "      <td>4.968</td>\n",
       "      <td>5228.1</td>\n",
       "      <td>no</td>\n",
       "      <td>Between 36 and 49</td>\n",
       "      <td>[22553.0, 171.0]</td>\n",
       "      <td>[0.9924749163879598, 0.007525083612040134]</td>\n",
       "      <td>0.0</td>\n",
       "    </tr>\n",
       "    <tr>\n",
       "      <th>1</th>\n",
       "      <td>0.0</td>\n",
       "      <td>(2.0382855256725416, 0.0, 0.0, 2.3001405778663...</td>\n",
       "      <td>38</td>\n",
       "      <td>admin.</td>\n",
       "      <td>married</td>\n",
       "      <td>university.degree</td>\n",
       "      <td>no</td>\n",
       "      <td>yes</td>\n",
       "      <td>no</td>\n",
       "      <td>cellular</td>\n",
       "      <td>...</td>\n",
       "      <td>1.4</td>\n",
       "      <td>93.918</td>\n",
       "      <td>-42.7</td>\n",
       "      <td>4.962</td>\n",
       "      <td>5228.1</td>\n",
       "      <td>no</td>\n",
       "      <td>Between 36 and 49</td>\n",
       "      <td>[22553.0, 171.0]</td>\n",
       "      <td>[0.9924749163879598, 0.007525083612040134]</td>\n",
       "      <td>0.0</td>\n",
       "    </tr>\n",
       "    <tr>\n",
       "      <th>2</th>\n",
       "      <td>0.0</td>\n",
       "      <td>(2.0382855256725416, 0.0, 0.0, 2.3001405778663...</td>\n",
       "      <td>46</td>\n",
       "      <td>admin.</td>\n",
       "      <td>married</td>\n",
       "      <td>university.degree</td>\n",
       "      <td>no</td>\n",
       "      <td>yes</td>\n",
       "      <td>no</td>\n",
       "      <td>cellular</td>\n",
       "      <td>...</td>\n",
       "      <td>1.4</td>\n",
       "      <td>93.918</td>\n",
       "      <td>-42.7</td>\n",
       "      <td>4.963</td>\n",
       "      <td>5228.1</td>\n",
       "      <td>no</td>\n",
       "      <td>Between 36 and 49</td>\n",
       "      <td>[22553.0, 171.0]</td>\n",
       "      <td>[0.9924749163879598, 0.007525083612040134]</td>\n",
       "      <td>0.0</td>\n",
       "    </tr>\n",
       "  </tbody>\n",
       "</table>\n",
       "<p>3 rows × 27 columns</p>\n",
       "</div>"
      ],
      "text/plain": [
       "   label                                           features  age     job  \\\n",
       "0    0.0  (2.0382855256725416, 0.0, 0.0, 2.3001405778663...   39  admin.   \n",
       "1    0.0  (2.0382855256725416, 0.0, 0.0, 2.3001405778663...   38  admin.   \n",
       "2    0.0  (2.0382855256725416, 0.0, 0.0, 2.3001405778663...   46  admin.   \n",
       "\n",
       "   marital          education credit_default housing loan   contact  ...  \\\n",
       "0  married  university.degree             no     yes   no  cellular  ...   \n",
       "1  married  university.degree             no     yes   no  cellular  ...   \n",
       "2  married  university.degree             no     yes   no  cellular  ...   \n",
       "\n",
       "  employment_variation_rate consumer_price_index  consumer_confidence_index  \\\n",
       "0                       1.4               93.918                      -42.7   \n",
       "1                       1.4               93.918                      -42.7   \n",
       "2                       1.4               93.918                      -42.7   \n",
       "\n",
       "   euribor_3_monthrate  number_of_employees  outcome            Age_udf  \\\n",
       "0                4.968               5228.1       no  Between 36 and 49   \n",
       "1                4.962               5228.1       no  Between 36 and 49   \n",
       "2                4.963               5228.1       no  Between 36 and 49   \n",
       "\n",
       "      rawPrediction                                 probability  prediction  \n",
       "0  [22553.0, 171.0]  [0.9924749163879598, 0.007525083612040134]         0.0  \n",
       "1  [22553.0, 171.0]  [0.9924749163879598, 0.007525083612040134]         0.0  \n",
       "2  [22553.0, 171.0]  [0.9924749163879598, 0.007525083612040134]         0.0  \n",
       "\n",
       "[3 rows x 27 columns]"
      ]
     },
     "execution_count": 65,
     "metadata": {},
     "output_type": "execute_result"
    }
   ],
   "source": [
    "dtc = DecisionTreeClassifier(featuresCol=\"features\", labelCol=\"label\")\n",
    "dtc = dtc.fit(train)\n",
    "\n",
    "pred = dtc.transform(test)\n",
    "pred.toPandas().head(3)"
   ]
  },
  {
   "cell_type": "code",
   "execution_count": 66,
   "id": "e38ecc64",
   "metadata": {},
   "outputs": [
    {
     "name": "stdout",
     "output_type": "stream",
     "text": [
      "Prediction Accuracy:  0.9099831616319864\n",
      "Confusion Matrix:\n",
      "[[7031  332]\n",
      " [ 402  529]]\n"
     ]
    }
   ],
   "source": [
    "evaluator=MulticlassClassificationEvaluator(predictionCol=\"prediction\")\n",
    "acc = evaluator.evaluate(pred)\n",
    " \n",
    "print(\"Prediction Accuracy: \", acc)\n",
    " \n",
    "y_pred=pred.select(\"prediction\").collect()\n",
    "y_orig=pred.select(\"label\").collect()\n",
    "\n",
    "cm = confusion_matrix(y_orig, y_pred)\n",
    "print(\"Confusion Matrix:\")\n",
    "print(cm)"
   ]
  },
  {
   "cell_type": "code",
   "execution_count": 67,
   "id": "f63469f7",
   "metadata": {},
   "outputs": [],
   "source": [
    "#Prediction accuracy for decision Tree Model is 90.95%"
   ]
  },
  {
   "cell_type": "code",
   "execution_count": 68,
   "id": "993324f2",
   "metadata": {},
   "outputs": [],
   "source": [
    "#Random Forest"
   ]
  },
  {
   "cell_type": "code",
   "execution_count": 69,
   "id": "e4fc66f1",
   "metadata": {},
   "outputs": [
    {
     "name": "stdout",
     "output_type": "stream",
     "text": [
      "+-----+--------------------+---+------+-------+-----------------+--------------+-------+----+--------+-----+-----------+--------+--------+-----+--------+-----------+-------------------------+--------------------+-------------------------+-------------------+-------------------+-------+-----------------+--------------------+--------------------+----------+--------------------+\n",
      "|label|            features|age|   job|marital|        education|credit_default|housing|loan| contact|month|day_of_week|duration|campaign|pdays|previous|   poutcome|employment_variation_rate|consumer_price_index|consumer_confidence_index|euribor_3_monthrate|number_of_employees|outcome|          Age_udf|       rawPrediction|         probability|prediction|         probability|\n",
      "+-----+--------------------+---+------+-------+-----------------+--------------+-------+----+--------+-----+-----------+--------+--------+-----+--------+-----------+-------------------------+--------------------+-------------------------+-------------------+-------------------+-------+-----------------+--------------------+--------------------+----------+--------------------+\n",
      "|  0.0|(55,[0,3,14,17,24...| 39|admin.|married|university.degree|            no|    yes|  no|cellular|  jul|        thu|      79|       3|  999|       0|nonexistent|                      1.4|              93.918|                    -42.7|              4.968|             5228.1|     no|Between 36 and 49|[94.7116633147759...|[0.94711663314775...|       0.0|[0.94711663314775...|\n",
      "|  0.0|(55,[0,3,14,17,24...| 38|admin.|married|university.degree|            no|    yes|  no|cellular|  jul|        mon|     124|       3|  999|       0|nonexistent|                      1.4|              93.918|                    -42.7|              4.962|             5228.1|     no|Between 36 and 49|[94.7116633147759...|[0.94711663314775...|       0.0|[0.94711663314775...|\n",
      "|  0.0|(55,[0,3,14,17,24...| 46|admin.|married|university.degree|            no|    yes|  no|cellular|  jul|        wed|      28|      11|  999|       0|nonexistent|                      1.4|              93.918|                    -42.7|              4.963|             5228.1|     no|Between 36 and 49|[94.7396270173178...|[0.94739627017317...|       0.0|[0.94739627017317...|\n",
      "|  0.0|(55,[0,3,14,17,24...| 37|admin.|married|university.degree|            no|    yes|  no|cellular|  jul|        wed|      55|      22|  999|       0|nonexistent|                      1.4|              93.918|                    -42.7|              4.963|             5228.1|     no|Between 36 and 49|[94.7396270173178...|[0.94739627017317...|       0.0|[0.94739627017317...|\n",
      "|  0.0|(55,[0,3,14,17,24...| 36|admin.|married|university.degree|            no|    yes|  no|cellular|  jul|        wed|     203|       3|  999|       0|nonexistent|                      1.4|              93.918|                    -42.7|              4.962|             5228.1|     no|Between 36 and 49|[94.6976528914532...|[0.94697652891453...|       0.0|[0.94697652891453...|\n",
      "+-----+--------------------+---+------+-------+-----------------+--------------+-------+----+--------+-----+-----------+--------+--------+-----+--------+-----------+-------------------------+--------------------+-------------------------+-------------------+-------------------+-------+-----------------+--------------------+--------------------+----------+--------------------+\n",
      "only showing top 5 rows\n",
      "\n"
     ]
    }
   ],
   "source": [
    "from pyspark.ml.classification import RandomForestClassifier\n",
    "\n",
    "rf = RandomForestClassifier(featuresCol = 'features', labelCol = 'label', numTrees=100)\n",
    "rfModel = rf.fit(train)\n",
    "predictions = rfModel.transform(test)\n",
    "predictions.select('*', 'probability').show(5)\n"
   ]
  },
  {
   "cell_type": "code",
   "execution_count": 70,
   "id": "fa1b10a5",
   "metadata": {},
   "outputs": [
    {
     "name": "stdout",
     "output_type": "stream",
     "text": [
      "+-----+----------+\n",
      "|label|prediction|\n",
      "+-----+----------+\n",
      "|  0.0|       0.0|\n",
      "|  0.0|       0.0|\n",
      "|  0.0|       0.0|\n",
      "|  0.0|       0.0|\n",
      "|  0.0|       0.0|\n",
      "|  0.0|       0.0|\n",
      "|  0.0|       0.0|\n",
      "|  0.0|       0.0|\n",
      "|  0.0|       0.0|\n",
      "|  0.0|       0.0|\n",
      "+-----+----------+\n",
      "only showing top 10 rows\n",
      "\n"
     ]
    }
   ],
   "source": [
    "#showing how the predictions look\n",
    "predictions.select(\"label\", \"prediction\").show(10)"
   ]
  },
  {
   "cell_type": "code",
   "execution_count": 71,
   "id": "e82a9f75",
   "metadata": {},
   "outputs": [
    {
     "name": "stdout",
     "output_type": "stream",
     "text": [
      "Accuracy = 0.8740947680732937\n",
      "Test Error = 0.12590523192670633\n"
     ]
    }
   ],
   "source": [
    "#Evaluate the random forest model\n",
    "\n",
    "from pyspark.ml.evaluation import MulticlassClassificationEvaluator\n",
    "\n",
    "evaluator = MulticlassClassificationEvaluator(labelCol=\"label\", predictionCol=\"prediction\")\n",
    "accuracy = evaluator.evaluate(predictions)\n",
    "print(\"Accuracy = %s\" % (accuracy))\n",
    "print(\"Test Error = %s\" % (1.0 - accuracy))"
   ]
  },
  {
   "cell_type": "code",
   "execution_count": 72,
   "id": "1a025311",
   "metadata": {},
   "outputs": [],
   "source": [
    "#Accuracy for Random forest with 100 trees is 87%"
   ]
  },
  {
   "cell_type": "code",
   "execution_count": 73,
   "id": "46f73289",
   "metadata": {},
   "outputs": [
    {
     "name": "stderr",
     "output_type": "stream",
     "text": [
      "C:\\Apps\\spark-3.3.0-bin-hadoop3\\python\\pyspark\\sql\\context.py:157: FutureWarning: Deprecated in 3.0.0. Use SparkSession.builder.getOrCreate() instead.\n",
      "  warnings.warn(\n"
     ]
    },
    {
     "name": "stdout",
     "output_type": "stream",
     "text": [
      "[[7316.   47.]\n",
      " [ 763.  168.]]\n"
     ]
    }
   ],
   "source": [
    "#confusion matrix for random forest classification\n",
    "\n",
    "from pyspark.mllib.evaluation import MulticlassMetrics\n",
    "from pyspark.sql.types import FloatType\n",
    "import pyspark.sql.functions as F\n",
    "\n",
    "preds_and_labels = predictions.select(['prediction','label']).withColumn('label', F.col('label').cast(FloatType())).orderBy('prediction')\n",
    "preds_and_labels = preds_and_labels.select(['prediction','label'])\n",
    "metrics = MulticlassMetrics(preds_and_labels.rdd.map(tuple))\n",
    "print(metrics.confusionMatrix().toArray())"
   ]
  },
  {
   "cell_type": "code",
   "execution_count": 74,
   "id": "a6c3719f",
   "metadata": {
    "scrolled": true
   },
   "outputs": [
    {
     "name": "stdout",
     "output_type": "stream",
     "text": [
      "Confusion matrix, without normalization\n",
      "[[ 168  763]\n",
      " [  47 7316]]\n"
     ]
    },
    {
     "data": {
      "image/png": "[encoded data removed]",
      "text/plain": [
       "<Figure size 432x288 with 2 Axes>"
      ]
     },
     "metadata": {},
     "output_type": "display_data"
    }
   ],
   "source": [
    "#visualising confusion matrix for random forest\n",
    "y_true = predictions.select(\"label\")\n",
    "y_true = y_true.toPandas()\n",
    "\n",
    "y_pred = predictions.select(\"prediction\")\n",
    "y_pred = y_pred.toPandas()\n",
    "\n",
    "cnf_matrix = confusion_matrix(y_true, y_pred,labels=class_names)\n",
    "#cnf_matrix\n",
    "plt.figure()\n",
    "plot_confusion_matrix(cnf_matrix, classes=class_names,\n",
    "                      title='Confusion matrix')\n",
    "plt.show()"
   ]
  },
  {
   "cell_type": "code",
   "execution_count": 75,
   "id": "2ae3787e",
   "metadata": {},
   "outputs": [],
   "source": [
    "# K means"
   ]
  },
  {
   "cell_type": "code",
   "execution_count": 76,
   "id": "119be95b",
   "metadata": {},
   "outputs": [
    {
     "data": {
      "text/html": [
       "<div>\n",
       "<style scoped>\n",
       "    .dataframe tbody tr th:only-of-type {\n",
       "        vertical-align: middle;\n",
       "    }\n",
       "\n",
       "    .dataframe tbody tr th {\n",
       "        vertical-align: top;\n",
       "    }\n",
       "\n",
       "    .dataframe thead th {\n",
       "        text-align: right;\n",
       "    }\n",
       "</style>\n",
       "<table border=\"1\" class=\"dataframe\">\n",
       "  <thead>\n",
       "    <tr style=\"text-align: right;\">\n",
       "      <th></th>\n",
       "      <th>label</th>\n",
       "      <th>features</th>\n",
       "      <th>age</th>\n",
       "      <th>job</th>\n",
       "      <th>marital</th>\n",
       "      <th>education</th>\n",
       "      <th>credit_default</th>\n",
       "      <th>housing</th>\n",
       "      <th>loan</th>\n",
       "      <th>contact</th>\n",
       "      <th>...</th>\n",
       "      <th>previous</th>\n",
       "      <th>poutcome</th>\n",
       "      <th>employment_variation_rate</th>\n",
       "      <th>consumer_price_index</th>\n",
       "      <th>consumer_confidence_index</th>\n",
       "      <th>euribor_3_monthrate</th>\n",
       "      <th>number_of_employees</th>\n",
       "      <th>outcome</th>\n",
       "      <th>Age_udf</th>\n",
       "      <th>standardized</th>\n",
       "    </tr>\n",
       "  </thead>\n",
       "  <tbody>\n",
       "    <tr>\n",
       "      <th>0</th>\n",
       "      <td>0.0</td>\n",
       "      <td>(2.0382855256725416, 0.0, 0.0, 2.3001405778663...</td>\n",
       "      <td>44</td>\n",
       "      <td>admin.</td>\n",
       "      <td>married</td>\n",
       "      <td>university.degree</td>\n",
       "      <td>no</td>\n",
       "      <td>yes</td>\n",
       "      <td>no</td>\n",
       "      <td>cellular</td>\n",
       "      <td>...</td>\n",
       "      <td>0</td>\n",
       "      <td>nonexistent</td>\n",
       "      <td>1.4</td>\n",
       "      <td>93.918</td>\n",
       "      <td>-42.7</td>\n",
       "      <td>4.962</td>\n",
       "      <td>5228.1</td>\n",
       "      <td>no</td>\n",
       "      <td>Between 36 and 49</td>\n",
       "      <td>(2.036229313864098, 0.0, 0.0, 2.29670727162644...</td>\n",
       "    </tr>\n",
       "    <tr>\n",
       "      <th>1</th>\n",
       "      <td>0.0</td>\n",
       "      <td>(2.0382855256725416, 0.0, 0.0, 2.3001405778663...</td>\n",
       "      <td>44</td>\n",
       "      <td>admin.</td>\n",
       "      <td>married</td>\n",
       "      <td>university.degree</td>\n",
       "      <td>no</td>\n",
       "      <td>yes</td>\n",
       "      <td>no</td>\n",
       "      <td>cellular</td>\n",
       "      <td>...</td>\n",
       "      <td>0</td>\n",
       "      <td>nonexistent</td>\n",
       "      <td>1.4</td>\n",
       "      <td>93.918</td>\n",
       "      <td>-42.7</td>\n",
       "      <td>4.962</td>\n",
       "      <td>5228.1</td>\n",
       "      <td>no</td>\n",
       "      <td>Between 36 and 49</td>\n",
       "      <td>(2.036229313864098, 0.0, 0.0, 2.29670727162644...</td>\n",
       "    </tr>\n",
       "  </tbody>\n",
       "</table>\n",
       "<p>2 rows × 25 columns</p>\n",
       "</div>"
      ],
      "text/plain": [
       "   label                                           features  age     job  \\\n",
       "0    0.0  (2.0382855256725416, 0.0, 0.0, 2.3001405778663...   44  admin.   \n",
       "1    0.0  (2.0382855256725416, 0.0, 0.0, 2.3001405778663...   44  admin.   \n",
       "\n",
       "   marital          education credit_default housing loan   contact  ...  \\\n",
       "0  married  university.degree             no     yes   no  cellular  ...   \n",
       "1  married  university.degree             no     yes   no  cellular  ...   \n",
       "\n",
       "  previous     poutcome  employment_variation_rate  consumer_price_index  \\\n",
       "0        0  nonexistent                        1.4                93.918   \n",
       "1        0  nonexistent                        1.4                93.918   \n",
       "\n",
       "   consumer_confidence_index  euribor_3_monthrate number_of_employees  \\\n",
       "0                      -42.7                4.962              5228.1   \n",
       "1                      -42.7                4.962              5228.1   \n",
       "\n",
       "   outcome            Age_udf  \\\n",
       "0       no  Between 36 and 49   \n",
       "1       no  Between 36 and 49   \n",
       "\n",
       "                                        standardized  \n",
       "0  (2.036229313864098, 0.0, 0.0, 2.29670727162644...  \n",
       "1  (2.036229313864098, 0.0, 0.0, 2.29670727162644...  \n",
       "\n",
       "[2 rows x 25 columns]"
      ]
     },
     "execution_count": 76,
     "metadata": {},
     "output_type": "execute_result"
    }
   ],
   "source": [
    "from pyspark.ml.feature import StandardScaler\n",
    "scale=StandardScaler(inputCol='features',outputCol='standardized')\n",
    "data_scale=scale.fit(train)\n",
    "data_scale_output=data_scale.transform(train)\n",
    "data_scale_output.toPandas().head(2)"
   ]
  },
  {
   "cell_type": "code",
   "execution_count": 77,
   "id": "7ac81649",
   "metadata": {},
   "outputs": [
    {
     "name": "stdout",
     "output_type": "stream",
     "text": [
      "Silhouette Score: 0.20502898666544395\n",
      "Silhouette Score: 0.08846522558249388\n",
      "Silhouette Score: 0.09847901041394949\n",
      "Silhouette Score: 0.06561096405979465\n",
      "Silhouette Score: 0.0930059590152895\n",
      "Silhouette Score: 0.10378613948572174\n",
      "Silhouette Score: 0.10304139368444726\n",
      "Silhouette Score: 0.1232780122216954\n"
     ]
    }
   ],
   "source": [
    "from pyspark.ml.clustering import KMeans\n",
    "from pyspark.ml.evaluation import ClusteringEvaluator\n",
    "silhouette_score=[]\n",
    "evaluator = ClusteringEvaluator(predictionCol='prediction', featuresCol='standardized', \\\n",
    "                                metricName='silhouette', distanceMeasure='squaredEuclidean')\n",
    "for i in range(2,10):\n",
    "    \n",
    "    KMeans_algo=KMeans(featuresCol='standardized', k=i)\n",
    "    \n",
    "    KMeans_fit=KMeans_algo.fit(data_scale_output)\n",
    "    \n",
    "    output=KMeans_fit.transform(data_scale_output)\n",
    "    \n",
    "    \n",
    "    \n",
    "    score=evaluator.evaluate(output)\n",
    "    \n",
    "    silhouette_score.append(score)\n",
    "    \n",
    "    print(\"Silhouette Score:\",score)"
   ]
  },
  {
   "cell_type": "code",
   "execution_count": null,
   "id": "c1d8c3ed",
   "metadata": {},
   "outputs": [],
   "source": []
  },
  {
   "cell_type": "code",
   "execution_count": null,
   "id": "a04d5289",
   "metadata": {},
   "outputs": [],
   "source": []
  },
  {
   "cell_type": "code",
   "execution_count": null,
   "id": "159d998f",
   "metadata": {},
   "outputs": [],
   "source": []
  },
  {
   "cell_type": "code",
   "execution_count": null,
   "id": "76ebed03",
   "metadata": {},
   "outputs": [],
   "source": []
  }
 ],
 "metadata": {
  "kernelspec": {
   "display_name": "Python 3 (ipykernel)",
   "language": "python",
   "name": "python3"
  },
  "language_info": {
   "codemirror_mode": {
    "name": "ipython",
    "version": 3
   },
   "file_extension": ".py",
   "mimetype": "text/x-python",
   "name": "python",
   "nbconvert_exporter": "python",
   "pygments_lexer": "ipython3",
   "version": "3.9.7"
  }
 },
 "nbformat": 4,
 "nbformat_minor": 5
}
